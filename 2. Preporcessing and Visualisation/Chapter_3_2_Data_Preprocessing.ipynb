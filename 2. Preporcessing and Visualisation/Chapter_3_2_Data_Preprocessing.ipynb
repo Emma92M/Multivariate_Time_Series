{
  "cells": [
    {
      "cell_type": "code",
      "source": [
        "#Preporcessing and Visualisation/Data_Preprocessing"
      ],
      "metadata": {
        "id": "Ta67glhT6o88"
      },
      "execution_count": null,
      "outputs": []
    },
    {
      "cell_type": "markdown",
      "source": [
        "#*Complex processing and Visualisation of the Imagery*\n",
        "\n",
        "#**Chapter 3.2**"
      ],
      "metadata": {
        "id": "ULwdE2iaaQyq"
      }
    },
    {
      "cell_type": "code",
      "execution_count": null,
      "metadata": {
        "colab": {
          "base_uri": "https://localhost:8080/"
        },
        "id": "xOvXlj9RXSRO",
        "outputId": "69a2d437-5df7-4871-8afe-7141fb796fbb"
      },
      "outputs": [
        {
          "output_type": "stream",
          "name": "stdout",
          "text": [
            "Mounted at /content/gdrive\n"
          ]
        }
      ],
      "source": [
        "from google.colab import drive\n",
        "drive.mount('/content/gdrive')"
      ]
    },
    {
      "cell_type": "code",
      "execution_count": null,
      "metadata": {
        "id": "VsGBXTfEXmdQ"
      },
      "outputs": [],
      "source": [
        "!pip3 install basemap\n",
        "!pip install cartopy\n",
        "!pip install geopandas\n",
        "!pip install harp-image-preprocess\n"
      ]
    },
    {
      "cell_type": "code",
      "execution_count": null,
      "metadata": {
        "id": "b4b2197WXVZG"
      },
      "outputs": [],
      "source": [
        "import numpy as np\n",
        "#from mpl_toolkits.basemap import Basemap\n",
        "import matplotlib.pyplot as plt\n",
        "import sys\n",
        "from netCDF4 import Dataset\n",
        "from numpy import unravel_index\n",
        "import pandas as pd\n",
        "import pandas as pd\n",
        "from shapely.geometry import Point\n",
        "import geopandas as gpd\n",
        "from geopandas import GeoDataFrame\n",
        "from geopy.geocoders import Nominatim\n",
        "import time\n",
        "from pprint import pprint"
      ]
    },
    {
      "cell_type": "code",
      "execution_count": null,
      "metadata": {
        "id": "4Af4wor07wGl"
      },
      "outputs": [],
      "source": [
        "!ls /content/gdrive/MyDrive/Sent/May20-Aug21/L2__NO2___\n"
      ]
    },
    {
      "cell_type": "markdown",
      "metadata": {
        "id": "PdPA0jlCtQSo"
      },
      "source": [
        "## **Averaging over day**"
      ]
    },
    {
      "cell_type": "code",
      "execution_count": null,
      "metadata": {
        "id": "H5LDQdl0_WU-"
      },
      "outputs": [],
      "source": [
        "name = '/content/gdrive/MyDrive/Sent/Sep2021/L2__NO2___/S5P_OFFL_L2__NO2____20210903T115446_20210903T133616_20162_02_020200_20210905T052151.nc'\n",
        "file = Dataset(name, 'r')\n",
        "ds=file\n",
        "ti = ds.time_reference\n",
        "grp='PRODUCT'  \n",
        "vlist = list(file[grp].variables.keys())\n",
        "lat= ds.groups[grp].variables['latitude'][0][:][:]\n",
        "lon= ds.groups[grp].variables['longitude'][0][:][:]\n",
        "\n",
        "\n",
        "l= ds.groups[grp].variables['delta_time'][0][:][:]\n",
        "vlist"
      ]
    },
    {
      "cell_type": "code",
      "execution_count": null,
      "metadata": {
        "id": "NR2Ai4KXgVsP"
      },
      "outputs": [],
      "source": [
        "#the columns we are interested \n",
        "name_list = ['nitrogendioxide_tropospheric_column',\n",
        " 'nitrogendioxide_tropospheric_column_precision',\n",
        " 'nitrogendioxide_tropospheric_column_precision_kernel',\n",
        " 'averaging_kernel',\n",
        " 'air_mass_factor_troposphere',\n",
        " 'air_mass_factor_total',\n",
        " 'tm5_tropopause_layer_index',\n",
        " 'tm5_constant_a',\n",
        " 'tm5_constant_b', \n",
        " 'qa_value']"
      ]
    },
    {
      "cell_type": "code",
      "execution_count": null,
      "metadata": {
        "colab": {
          "base_uri": "https://localhost:8080/"
        },
        "id": "27WOq4oQo_pt",
        "outputId": "0febce4d-c60c-47ba-c293-d5d35d6d7525"
      },
      "outputs": [
        {
          "data": {
            "text/plain": [
              "1877850"
            ]
          },
          "execution_count": 28,
          "metadata": {},
          "output_type": "execute_result"
        }
      ],
      "source": [
        "len(lat[1])\n",
        "lat.shape[0]*lat.shape[1]"
      ]
    },
    {
      "cell_type": "markdown",
      "source": [
        "##**Feature Extraction Stage**\n",
        "\n",
        "Reference:\n",
        "The model scrip was adopted from the following webpage:\n",
        "\n",
        "https://appliedsciences.nasa.gov/join-mission/training/english/arset-high-resolution-no2-monitoring-space-tropomi "
      ],
      "metadata": {
        "id": "F4ZYygHG40Bq"
      }
    },
    {
      "cell_type": "code",
      "execution_count": null,
      "metadata": {
        "id": "7GEYNaSwtTd_"
      },
      "outputs": [],
      "source": [
        "#Loops through all the NetCDF files \n",
        "\n",
        "fileList=open('/content/gdrive/MyDrive/Sent/May20-Aug21.txt','r')\n",
        "all_data = []\n",
        "for file_n in fileList: \n",
        "  file_n=file_n.strip()\n",
        "  file = Dataset('/content/gdrive/MyDrive/Sent/May20-Aug21/L2__NO2___/'+file_n, 'r')\n",
        "  ds=file\n",
        "  grp='PRODUCT'   \n",
        "  ti = ds.time_reference   #time\n",
        "  lat= ds.groups[grp].variables['latitude'][0][:][:]\n",
        "  lon= ds.groups[grp].variables['longitude'][0][:][:]\n",
        "  df = pd.DataFrame()\n",
        "  df['latitude'] = lat.ravel()\n",
        "  df['longitute'] = lon.ravel()\n",
        "  # new_day = [ti] * lat.shape[0]*lat.shape[1]\n",
        "  # new_day = np.array(new_day)\n",
        "  # df['date'] = new_day.ravel()\n",
        "  scan_time= ds.groups[grp].variables['time_utc']\n",
        "  year = np.zeros(lat.shape)\n",
        "  mth = np.zeros(lat.shape)\n",
        "  day = np.zeros(lat.shape)\n",
        "  hr = np.zeros(lat.shape)\n",
        "  import datetime as dt\n",
        "  import pandas as pd\n",
        "  for i in range(0,lat.shape[0]):\n",
        "      t = scan_time[0][i].split('.')[0]\n",
        "      t2 = dt.datetime.strptime(t,'%Y-%m-%dT%H:%M:%S')\n",
        "      y = t2.year\n",
        "      m = t2.month\n",
        "      d = t2.day\n",
        "      h = t2.hour\n",
        "      year[i][:] = y\n",
        "      mth[i][:] = m\n",
        "      day[i][:] = d\n",
        "      hr[i][:] = h\n",
        "\n",
        "  df['Year'] = year.ravel()\n",
        "  df['Month'] = mth.ravel()\n",
        "  df['Day'] = day.ravel()\n",
        "  df['Hour'] = hr.ravel()\n",
        "  #df['nitrogendioxide_tropospheric_column'] = data.ravel()\n",
        "  # SDS_NAME='nitrogendioxide_tropospheric_column'\n",
        "\n",
        "  for i in range(0,len(name_list)):\n",
        "            SDS_NAME=name_list[(i)] # The name of the sds to read\n",
        "            #get current SDS data, or exit program if the SDS is not found in the file\n",
        "            #try:\n",
        "            sds=ds.groups[grp].variables[SDS_NAME]\n",
        "            if len(sds.shape) == 3:\n",
        "                #print(SDS_NAME,sds.shape)\n",
        "                #get attributes for current SDS\n",
        "                if 'qa' in SDS_NAME:\n",
        "                    scale=sds.scale_factor\n",
        "                else: scale = 1.0\n",
        "                fv=sds._FillValue \n",
        "                data=sds[:].ravel()\n",
        "                ata=data.astype(float)\n",
        "                data=(data)*scale\n",
        "                data[np.isnan(data)]=fv\n",
        "                data[data==float(fv)]=np.nan\n",
        "                df[SDS_NAME] = data\n",
        "  \n",
        "  \n",
        "#bounding box berlin\n",
        "#'boundingbox': ['52.3382448', '52.6755087', '13.088345', '13.7611609'],\n",
        "#https://www.google.com/search?client=safari&rls=en&q=bounding+box+berlin&ie=UTF-8&oe=UTF-8\n",
        "\n",
        "  df = df.dropna()\n",
        "  #df = df.loc[(df['latitude'] >= 52.35900) & (df['latitude'] <= 52.85400) & (df['longitute'] >= 13.088345) & (df['longitute'] <= 13.7611609)]\n",
        "  df = df.loc[(df['latitude'] >= 52.15) & (df['latitude'] <= 52.95) & (df['longitute'] >= 12.9) & (df['longitute'] <= 13.9)] \n",
        "  all_data.append(df)\n",
        "final=pd.concat(all_data,ignore_index=True)"
      ]
    },
    {
      "cell_type": "code",
      "execution_count": null,
      "metadata": {
        "colab": {
          "base_uri": "https://localhost:8080/"
        },
        "id": "eA5Wtkeb87Br",
        "outputId": "c44b2a31-28c9-483b-d823-fc30d7e51161"
      },
      "outputs": [
        {
          "output_type": "execute_result",
          "data": {
            "text/plain": [
              "(140835, 13)"
            ]
          },
          "metadata": {},
          "execution_count": 9
        }
      ],
      "source": [
        "final.shape"
      ]
    },
    {
      "cell_type": "code",
      "execution_count": null,
      "metadata": {
        "colab": {
          "base_uri": "https://localhost:8080/",
          "height": 270
        },
        "id": "A4lFCPNXhcSm",
        "outputId": "a97aa201-a75d-4ba6-8fc8-6deea02d0c1e"
      },
      "outputs": [
        {
          "output_type": "execute_result",
          "data": {
            "text/plain": [
              "    latitude  longitute    Year  Month  Day  Hour  \\\n",
              "0  52.157349  13.716069  2020.0    5.0  1.0  11.0   \n",
              "1  52.192528  13.806399  2020.0    5.0  1.0  11.0   \n",
              "2  52.227226  13.895948  2020.0    5.0  1.0  11.0   \n",
              "3  52.167213  13.589217  2020.0    5.0  1.0  11.0   \n",
              "4  52.202911  13.680410  2020.0    5.0  1.0  11.0   \n",
              "\n",
              "   nitrogendioxide_tropospheric_column  \\\n",
              "0                         1.459978e-05   \n",
              "1                        -6.227974e-06   \n",
              "2                         5.757178e-07   \n",
              "3                         1.580315e-05   \n",
              "4                         1.687530e-05   \n",
              "\n",
              "   nitrogendioxide_tropospheric_column_precision  \\\n",
              "0                                       0.000018   \n",
              "1                                       0.000014   \n",
              "2                                       0.000013   \n",
              "3                                       0.000011   \n",
              "4                                       0.000016   \n",
              "\n",
              "   nitrogendioxide_tropospheric_column_precision_kernel  \\\n",
              "0                                           0.000017      \n",
              "1                                           0.000014      \n",
              "2                                           0.000013      \n",
              "3                                           0.000011      \n",
              "4                                           0.000015      \n",
              "\n",
              "   air_mass_factor_troposphere  air_mass_factor_total  \\\n",
              "0                     0.952377               1.804340   \n",
              "1                     0.951523               1.798625   \n",
              "2                     0.918600               1.780306   \n",
              "3                     1.077755               1.861350   \n",
              "4                     1.005521               1.828623   \n",
              "\n",
              "   tm5_tropopause_layer_index  qa_value  \n",
              "0                        14.0    0.0074  \n",
              "1                        14.0    0.0074  \n",
              "2                        14.0    0.0074  \n",
              "3                        14.0    0.0074  \n",
              "4                        14.0    0.0074  "
            ],
            "text/html": [
              "\n",
              "  <div id=\"df-0dd9801d-5241-457b-a08b-c9b100f5ff0b\">\n",
              "    <div class=\"colab-df-container\">\n",
              "      <div>\n",
              "<style scoped>\n",
              "    .dataframe tbody tr th:only-of-type {\n",
              "        vertical-align: middle;\n",
              "    }\n",
              "\n",
              "    .dataframe tbody tr th {\n",
              "        vertical-align: top;\n",
              "    }\n",
              "\n",
              "    .dataframe thead th {\n",
              "        text-align: right;\n",
              "    }\n",
              "</style>\n",
              "<table border=\"1\" class=\"dataframe\">\n",
              "  <thead>\n",
              "    <tr style=\"text-align: right;\">\n",
              "      <th></th>\n",
              "      <th>latitude</th>\n",
              "      <th>longitute</th>\n",
              "      <th>Year</th>\n",
              "      <th>Month</th>\n",
              "      <th>Day</th>\n",
              "      <th>Hour</th>\n",
              "      <th>nitrogendioxide_tropospheric_column</th>\n",
              "      <th>nitrogendioxide_tropospheric_column_precision</th>\n",
              "      <th>nitrogendioxide_tropospheric_column_precision_kernel</th>\n",
              "      <th>air_mass_factor_troposphere</th>\n",
              "      <th>air_mass_factor_total</th>\n",
              "      <th>tm5_tropopause_layer_index</th>\n",
              "      <th>qa_value</th>\n",
              "    </tr>\n",
              "  </thead>\n",
              "  <tbody>\n",
              "    <tr>\n",
              "      <th>0</th>\n",
              "      <td>52.157349</td>\n",
              "      <td>13.716069</td>\n",
              "      <td>2020.0</td>\n",
              "      <td>5.0</td>\n",
              "      <td>1.0</td>\n",
              "      <td>11.0</td>\n",
              "      <td>1.459978e-05</td>\n",
              "      <td>0.000018</td>\n",
              "      <td>0.000017</td>\n",
              "      <td>0.952377</td>\n",
              "      <td>1.804340</td>\n",
              "      <td>14.0</td>\n",
              "      <td>0.0074</td>\n",
              "    </tr>\n",
              "    <tr>\n",
              "      <th>1</th>\n",
              "      <td>52.192528</td>\n",
              "      <td>13.806399</td>\n",
              "      <td>2020.0</td>\n",
              "      <td>5.0</td>\n",
              "      <td>1.0</td>\n",
              "      <td>11.0</td>\n",
              "      <td>-6.227974e-06</td>\n",
              "      <td>0.000014</td>\n",
              "      <td>0.000014</td>\n",
              "      <td>0.951523</td>\n",
              "      <td>1.798625</td>\n",
              "      <td>14.0</td>\n",
              "      <td>0.0074</td>\n",
              "    </tr>\n",
              "    <tr>\n",
              "      <th>2</th>\n",
              "      <td>52.227226</td>\n",
              "      <td>13.895948</td>\n",
              "      <td>2020.0</td>\n",
              "      <td>5.0</td>\n",
              "      <td>1.0</td>\n",
              "      <td>11.0</td>\n",
              "      <td>5.757178e-07</td>\n",
              "      <td>0.000013</td>\n",
              "      <td>0.000013</td>\n",
              "      <td>0.918600</td>\n",
              "      <td>1.780306</td>\n",
              "      <td>14.0</td>\n",
              "      <td>0.0074</td>\n",
              "    </tr>\n",
              "    <tr>\n",
              "      <th>3</th>\n",
              "      <td>52.167213</td>\n",
              "      <td>13.589217</td>\n",
              "      <td>2020.0</td>\n",
              "      <td>5.0</td>\n",
              "      <td>1.0</td>\n",
              "      <td>11.0</td>\n",
              "      <td>1.580315e-05</td>\n",
              "      <td>0.000011</td>\n",
              "      <td>0.000011</td>\n",
              "      <td>1.077755</td>\n",
              "      <td>1.861350</td>\n",
              "      <td>14.0</td>\n",
              "      <td>0.0074</td>\n",
              "    </tr>\n",
              "    <tr>\n",
              "      <th>4</th>\n",
              "      <td>52.202911</td>\n",
              "      <td>13.680410</td>\n",
              "      <td>2020.0</td>\n",
              "      <td>5.0</td>\n",
              "      <td>1.0</td>\n",
              "      <td>11.0</td>\n",
              "      <td>1.687530e-05</td>\n",
              "      <td>0.000016</td>\n",
              "      <td>0.000015</td>\n",
              "      <td>1.005521</td>\n",
              "      <td>1.828623</td>\n",
              "      <td>14.0</td>\n",
              "      <td>0.0074</td>\n",
              "    </tr>\n",
              "  </tbody>\n",
              "</table>\n",
              "</div>\n",
              "      <button class=\"colab-df-convert\" onclick=\"convertToInteractive('df-0dd9801d-5241-457b-a08b-c9b100f5ff0b')\"\n",
              "              title=\"Convert this dataframe to an interactive table.\"\n",
              "              style=\"display:none;\">\n",
              "        \n",
              "  <svg xmlns=\"http://www.w3.org/2000/svg\" height=\"24px\"viewBox=\"0 0 24 24\"\n",
              "       width=\"24px\">\n",
              "    <path d=\"M0 0h24v24H0V0z\" fill=\"none\"/>\n",
              "    <path d=\"M18.56 5.44l.94 2.06.94-2.06 2.06-.94-2.06-.94-.94-2.06-.94 2.06-2.06.94zm-11 1L8.5 8.5l.94-2.06 2.06-.94-2.06-.94L8.5 2.5l-.94 2.06-2.06.94zm10 10l.94 2.06.94-2.06 2.06-.94-2.06-.94-.94-2.06-.94 2.06-2.06.94z\"/><path d=\"M17.41 7.96l-1.37-1.37c-.4-.4-.92-.59-1.43-.59-.52 0-1.04.2-1.43.59L10.3 9.45l-7.72 7.72c-.78.78-.78 2.05 0 2.83L4 21.41c.39.39.9.59 1.41.59.51 0 1.02-.2 1.41-.59l7.78-7.78 2.81-2.81c.8-.78.8-2.07 0-2.86zM5.41 20L4 18.59l7.72-7.72 1.47 1.35L5.41 20z\"/>\n",
              "  </svg>\n",
              "      </button>\n",
              "      \n",
              "  <style>\n",
              "    .colab-df-container {\n",
              "      display:flex;\n",
              "      flex-wrap:wrap;\n",
              "      gap: 12px;\n",
              "    }\n",
              "\n",
              "    .colab-df-convert {\n",
              "      background-color: #E8F0FE;\n",
              "      border: none;\n",
              "      border-radius: 50%;\n",
              "      cursor: pointer;\n",
              "      display: none;\n",
              "      fill: #1967D2;\n",
              "      height: 32px;\n",
              "      padding: 0 0 0 0;\n",
              "      width: 32px;\n",
              "    }\n",
              "\n",
              "    .colab-df-convert:hover {\n",
              "      background-color: #E2EBFA;\n",
              "      box-shadow: 0px 1px 2px rgba(60, 64, 67, 0.3), 0px 1px 3px 1px rgba(60, 64, 67, 0.15);\n",
              "      fill: #174EA6;\n",
              "    }\n",
              "\n",
              "    [theme=dark] .colab-df-convert {\n",
              "      background-color: #3B4455;\n",
              "      fill: #D2E3FC;\n",
              "    }\n",
              "\n",
              "    [theme=dark] .colab-df-convert:hover {\n",
              "      background-color: #434B5C;\n",
              "      box-shadow: 0px 1px 3px 1px rgba(0, 0, 0, 0.15);\n",
              "      filter: drop-shadow(0px 1px 2px rgba(0, 0, 0, 0.3));\n",
              "      fill: #FFFFFF;\n",
              "    }\n",
              "  </style>\n",
              "\n",
              "      <script>\n",
              "        const buttonEl =\n",
              "          document.querySelector('#df-0dd9801d-5241-457b-a08b-c9b100f5ff0b button.colab-df-convert');\n",
              "        buttonEl.style.display =\n",
              "          google.colab.kernel.accessAllowed ? 'block' : 'none';\n",
              "\n",
              "        async function convertToInteractive(key) {\n",
              "          const element = document.querySelector('#df-0dd9801d-5241-457b-a08b-c9b100f5ff0b');\n",
              "          const dataTable =\n",
              "            await google.colab.kernel.invokeFunction('convertToInteractive',\n",
              "                                                     [key], {});\n",
              "          if (!dataTable) return;\n",
              "\n",
              "          const docLinkHtml = 'Like what you see? Visit the ' +\n",
              "            '<a target=\"_blank\" href=https://colab.research.google.com/notebooks/data_table.ipynb>data table notebook</a>'\n",
              "            + ' to learn more about interactive tables.';\n",
              "          element.innerHTML = '';\n",
              "          dataTable['output_type'] = 'display_data';\n",
              "          await google.colab.output.renderOutput(dataTable, element);\n",
              "          const docLink = document.createElement('div');\n",
              "          docLink.innerHTML = docLinkHtml;\n",
              "          element.appendChild(docLink);\n",
              "        }\n",
              "      </script>\n",
              "    </div>\n",
              "  </div>\n",
              "  "
            ]
          },
          "metadata": {},
          "execution_count": 10
        }
      ],
      "source": [
        "final.head()"
      ]
    },
    {
      "cell_type": "code",
      "execution_count": null,
      "metadata": {
        "id": "6NxtKzPw8ubu"
      },
      "outputs": [],
      "source": [
        "#final.to_csv('/content/gdrive/MyDrive/Sent/May20-Aug21_data.csv', index=False) "
      ]
    },
    {
      "cell_type": "code",
      "execution_count": null,
      "metadata": {
        "colab": {
          "base_uri": "https://localhost:8080/"
        },
        "id": "D1L6cawHy0xS",
        "outputId": "44ec5dd7-273b-4e2b-f201-02b31f0de472"
      },
      "outputs": [
        {
          "data": {
            "text/plain": [
              "array([11., 13., 12., 10.])"
            ]
          },
          "execution_count": 28,
          "metadata": {},
          "output_type": "execute_result"
        }
      ],
      "source": [
        "final['Hour'].unique()"
      ]
    },
    {
      "cell_type": "code",
      "execution_count": null,
      "metadata": {
        "id": "NxBmEaAwCkdR"
      },
      "outputs": [],
      "source": [
        "#df.to_csv('/content/gdrive/MyDrive/Sent/Feb22-Sep22_data', index=False) "
      ]
    },
    {
      "cell_type": "code",
      "execution_count": null,
      "metadata": {
        "colab": {
          "base_uri": "https://localhost:8080/"
        },
        "id": "1ribQuQJSpDd",
        "outputId": "4eec73ae-f361-4812-9b86-f231e7830962"
      },
      "outputs": [
        {
          "data": {
            "text/plain": [
              "(118872, 12)"
            ]
          },
          "execution_count": 20,
          "metadata": {},
          "output_type": "execute_result"
        }
      ],
      "source": [
        "final.shape"
      ]
    },
    {
      "cell_type": "code",
      "source": [],
      "metadata": {
        "id": "M6m-mHrE6f5o"
      },
      "execution_count": null,
      "outputs": []
    },
    {
      "cell_type": "markdown",
      "source": [
        "##**Read the file**"
      ],
      "metadata": {
        "id": "VN4uKnJR6gSa"
      }
    },
    {
      "cell_type": "code",
      "execution_count": null,
      "metadata": {
        "id": "EzOfKGim9qZr"
      },
      "outputs": [],
      "source": [
        "fileList=open('/content/gdrive/MyDrive/Sent/Sept2021.txt','r')\n",
        "for file_n in fileList: \n",
        "  file_n=file_n.strip()\n",
        "  file = Dataset('/content/gdrive/MyDrive/Sent/Sep2021/L2__NO2___/'+file_n, 'r')\n",
        "  print(file)"
      ]
    },
    {
      "cell_type": "code",
      "execution_count": null,
      "metadata": {
        "colab": {
          "base_uri": "https://localhost:8080/"
        },
        "id": "EPCfEAn80DzB",
        "outputId": "b0316e9a-dc5f-4b17-ad8d-1f9b527fa28e"
      },
      "outputs": [
        {
          "name": "stdout",
          "output_type": "stream",
          "text": [
            "{'boundingbox': ['52.3382448', '52.6755087', '13.088345', '13.7611609'],\n",
            " 'class': 'boundary',\n",
            " 'display_name': 'Berlin, Deutschland',\n",
            " 'icon': 'https://nominatim.openstreetmap.org/ui/mapicons/poi_boundary_administrative.p.20.png',\n",
            " 'importance': 0.8975390282491362,\n",
            " 'lat': '52.5170365',\n",
            " 'licence': 'Data © OpenStreetMap contributors, ODbL 1.0. '\n",
            "            'https://osm.org/copyright',\n",
            " 'lon': '13.3888599',\n",
            " 'osm_id': 62422,\n",
            " 'osm_type': 'relation',\n",
            " 'place_id': 297499108,\n",
            " 'type': 'administrative'}\n"
          ]
        }
      ],
      "source": [
        "app = Nominatim(user_agent=\"tutorial\")\n",
        "location = app.geocode(\"Germany, Berlin\").raw\n",
        "# print raw data\n",
        "pprint(location)"
      ]
    },
    {
      "cell_type": "code",
      "execution_count": null,
      "metadata": {
        "colab": {
          "base_uri": "https://localhost:8080/"
        },
        "id": "mjQp2l2Mv_sF",
        "outputId": "c3ecefde-e3e1-4e5d-f957-823774faafbc"
      },
      "outputs": [
        {
          "data": {
            "text/plain": [
              "0.00010850559"
            ]
          },
          "execution_count": 31,
          "metadata": {},
          "output_type": "execute_result"
        }
      ],
      "source": [
        "df['nitrogendioxide_tropospheric_column'].max()"
      ]
    },
    {
      "cell_type": "code",
      "execution_count": null,
      "metadata": {
        "colab": {
          "base_uri": "https://localhost:8080/",
          "height": 483
        },
        "id": "ViCaM2p2siUb",
        "outputId": "296b729e-df53-4bc7-bfca-c1766dd8092c"
      },
      "outputs": [
        {
          "data": {
            "text/html": [
              "\n",
              "  <div id=\"df-44f13ba2-5c8b-4b9d-b8b9-3a0ff382e0bd\">\n",
              "    <div class=\"colab-df-container\">\n",
              "      <div>\n",
              "<style scoped>\n",
              "    .dataframe tbody tr th:only-of-type {\n",
              "        vertical-align: middle;\n",
              "    }\n",
              "\n",
              "    .dataframe tbody tr th {\n",
              "        vertical-align: top;\n",
              "    }\n",
              "\n",
              "    .dataframe thead th {\n",
              "        text-align: right;\n",
              "    }\n",
              "</style>\n",
              "<table border=\"1\" class=\"dataframe\">\n",
              "  <thead>\n",
              "    <tr style=\"text-align: right;\">\n",
              "      <th></th>\n",
              "      <th>Year</th>\n",
              "      <th>Month</th>\n",
              "      <th>Day</th>\n",
              "      <th>Hour</th>\n",
              "      <th>latitude</th>\n",
              "      <th>longitude</th>\n",
              "      <th>qa_value</th>\n",
              "      <th>nitrogendioxide_tropospheric_column</th>\n",
              "      <th>nitrogendioxide_tropospheric_column_precision</th>\n",
              "      <th>nitrogendioxide_tropospheric_column_precision_kernel</th>\n",
              "      <th>air_mass_factor_troposphere</th>\n",
              "      <th>air_mass_factor_total</th>\n",
              "      <th>tm5_tropopause_layer_index</th>\n",
              "    </tr>\n",
              "  </thead>\n",
              "  <tbody>\n",
              "    <tr>\n",
              "      <th>111601</th>\n",
              "      <td>2021.0</td>\n",
              "      <td>9.0</td>\n",
              "      <td>3.0</td>\n",
              "      <td>12.0</td>\n",
              "      <td>-80.594292</td>\n",
              "      <td>-6.965050</td>\n",
              "      <td>0.0007</td>\n",
              "      <td>-5.447930e-06</td>\n",
              "      <td>0.000010</td>\n",
              "      <td>0.000009</td>\n",
              "      <td>10.840795</td>\n",
              "      <td>15.060045</td>\n",
              "      <td>20.0</td>\n",
              "    </tr>\n",
              "    <tr>\n",
              "      <th>111602</th>\n",
              "      <td>2021.0</td>\n",
              "      <td>9.0</td>\n",
              "      <td>3.0</td>\n",
              "      <td>12.0</td>\n",
              "      <td>-80.614792</td>\n",
              "      <td>-6.445107</td>\n",
              "      <td>0.0007</td>\n",
              "      <td>-2.600548e-06</td>\n",
              "      <td>0.000010</td>\n",
              "      <td>0.000010</td>\n",
              "      <td>10.866412</td>\n",
              "      <td>15.080253</td>\n",
              "      <td>20.0</td>\n",
              "    </tr>\n",
              "    <tr>\n",
              "      <th>111603</th>\n",
              "      <td>2021.0</td>\n",
              "      <td>9.0</td>\n",
              "      <td>3.0</td>\n",
              "      <td>12.0</td>\n",
              "      <td>-80.634285</td>\n",
              "      <td>-5.930222</td>\n",
              "      <td>0.0007</td>\n",
              "      <td>-1.922391e-09</td>\n",
              "      <td>0.000010</td>\n",
              "      <td>0.000010</td>\n",
              "      <td>10.856234</td>\n",
              "      <td>15.100107</td>\n",
              "      <td>20.0</td>\n",
              "    </tr>\n",
              "    <tr>\n",
              "      <th>112051</th>\n",
              "      <td>2021.0</td>\n",
              "      <td>9.0</td>\n",
              "      <td>3.0</td>\n",
              "      <td>12.0</td>\n",
              "      <td>-80.550713</td>\n",
              "      <td>-6.855190</td>\n",
              "      <td>0.0007</td>\n",
              "      <td>-2.207261e-06</td>\n",
              "      <td>0.000009</td>\n",
              "      <td>0.000009</td>\n",
              "      <td>10.820048</td>\n",
              "      <td>14.973653</td>\n",
              "      <td>20.0</td>\n",
              "    </tr>\n",
              "    <tr>\n",
              "      <th>112052</th>\n",
              "      <td>2021.0</td>\n",
              "      <td>9.0</td>\n",
              "      <td>3.0</td>\n",
              "      <td>12.0</td>\n",
              "      <td>-80.571037</td>\n",
              "      <td>-6.337364</td>\n",
              "      <td>0.0007</td>\n",
              "      <td>-8.031790e-07</td>\n",
              "      <td>0.000009</td>\n",
              "      <td>0.000009</td>\n",
              "      <td>10.833792</td>\n",
              "      <td>14.990416</td>\n",
              "      <td>20.0</td>\n",
              "    </tr>\n",
              "    <tr>\n",
              "      <th>...</th>\n",
              "      <td>...</td>\n",
              "      <td>...</td>\n",
              "      <td>...</td>\n",
              "      <td>...</td>\n",
              "      <td>...</td>\n",
              "      <td>...</td>\n",
              "      <td>...</td>\n",
              "      <td>...</td>\n",
              "      <td>...</td>\n",
              "      <td>...</td>\n",
              "      <td>...</td>\n",
              "      <td>...</td>\n",
              "      <td>...</td>\n",
              "    </tr>\n",
              "    <tr>\n",
              "      <th>1783803</th>\n",
              "      <td>2021.0</td>\n",
              "      <td>9.0</td>\n",
              "      <td>3.0</td>\n",
              "      <td>13.0</td>\n",
              "      <td>65.144745</td>\n",
              "      <td>-119.008179</td>\n",
              "      <td>0.0005</td>\n",
              "      <td>-9.257338e-05</td>\n",
              "      <td>0.000067</td>\n",
              "      <td>0.000064</td>\n",
              "      <td>1.555661</td>\n",
              "      <td>12.218963</td>\n",
              "      <td>16.0</td>\n",
              "    </tr>\n",
              "    <tr>\n",
              "      <th>1784251</th>\n",
              "      <td>2021.0</td>\n",
              "      <td>9.0</td>\n",
              "      <td>3.0</td>\n",
              "      <td>13.0</td>\n",
              "      <td>64.991348</td>\n",
              "      <td>-118.846741</td>\n",
              "      <td>0.0005</td>\n",
              "      <td>-5.827203e-05</td>\n",
              "      <td>0.000064</td>\n",
              "      <td>0.000063</td>\n",
              "      <td>1.564162</td>\n",
              "      <td>12.188481</td>\n",
              "      <td>16.0</td>\n",
              "    </tr>\n",
              "    <tr>\n",
              "      <th>1784252</th>\n",
              "      <td>2021.0</td>\n",
              "      <td>9.0</td>\n",
              "      <td>3.0</td>\n",
              "      <td>13.0</td>\n",
              "      <td>65.054802</td>\n",
              "      <td>-118.978302</td>\n",
              "      <td>0.0005</td>\n",
              "      <td>-7.818608e-05</td>\n",
              "      <td>0.000066</td>\n",
              "      <td>0.000064</td>\n",
              "      <td>1.557551</td>\n",
              "      <td>12.234278</td>\n",
              "      <td>16.0</td>\n",
              "    </tr>\n",
              "    <tr>\n",
              "      <th>1784253</th>\n",
              "      <td>2021.0</td>\n",
              "      <td>9.0</td>\n",
              "      <td>3.0</td>\n",
              "      <td>13.0</td>\n",
              "      <td>65.117287</td>\n",
              "      <td>-119.108696</td>\n",
              "      <td>0.0005</td>\n",
              "      <td>-6.341398e-05</td>\n",
              "      <td>0.000067</td>\n",
              "      <td>0.000065</td>\n",
              "      <td>1.550752</td>\n",
              "      <td>12.281730</td>\n",
              "      <td>16.0</td>\n",
              "    </tr>\n",
              "    <tr>\n",
              "      <th>1784701</th>\n",
              "      <td>2021.0</td>\n",
              "      <td>9.0</td>\n",
              "      <td>3.0</td>\n",
              "      <td>13.0</td>\n",
              "      <td>64.963997</td>\n",
              "      <td>-118.946609</td>\n",
              "      <td>0.0005</td>\n",
              "      <td>-5.868813e-05</td>\n",
              "      <td>0.000063</td>\n",
              "      <td>0.000062</td>\n",
              "      <td>1.597369</td>\n",
              "      <td>12.257891</td>\n",
              "      <td>16.0</td>\n",
              "    </tr>\n",
              "  </tbody>\n",
              "</table>\n",
              "<p>1570738 rows × 13 columns</p>\n",
              "</div>\n",
              "      <button class=\"colab-df-convert\" onclick=\"convertToInteractive('df-44f13ba2-5c8b-4b9d-b8b9-3a0ff382e0bd')\"\n",
              "              title=\"Convert this dataframe to an interactive table.\"\n",
              "              style=\"display:none;\">\n",
              "        \n",
              "  <svg xmlns=\"http://www.w3.org/2000/svg\" height=\"24px\"viewBox=\"0 0 24 24\"\n",
              "       width=\"24px\">\n",
              "    <path d=\"M0 0h24v24H0V0z\" fill=\"none\"/>\n",
              "    <path d=\"M18.56 5.44l.94 2.06.94-2.06 2.06-.94-2.06-.94-.94-2.06-.94 2.06-2.06.94zm-11 1L8.5 8.5l.94-2.06 2.06-.94-2.06-.94L8.5 2.5l-.94 2.06-2.06.94zm10 10l.94 2.06.94-2.06 2.06-.94-2.06-.94-.94-2.06-.94 2.06-2.06.94z\"/><path d=\"M17.41 7.96l-1.37-1.37c-.4-.4-.92-.59-1.43-.59-.52 0-1.04.2-1.43.59L10.3 9.45l-7.72 7.72c-.78.78-.78 2.05 0 2.83L4 21.41c.39.39.9.59 1.41.59.51 0 1.02-.2 1.41-.59l7.78-7.78 2.81-2.81c.8-.78.8-2.07 0-2.86zM5.41 20L4 18.59l7.72-7.72 1.47 1.35L5.41 20z\"/>\n",
              "  </svg>\n",
              "      </button>\n",
              "      \n",
              "  <style>\n",
              "    .colab-df-container {\n",
              "      display:flex;\n",
              "      flex-wrap:wrap;\n",
              "      gap: 12px;\n",
              "    }\n",
              "\n",
              "    .colab-df-convert {\n",
              "      background-color: #E8F0FE;\n",
              "      border: none;\n",
              "      border-radius: 50%;\n",
              "      cursor: pointer;\n",
              "      display: none;\n",
              "      fill: #1967D2;\n",
              "      height: 32px;\n",
              "      padding: 0 0 0 0;\n",
              "      width: 32px;\n",
              "    }\n",
              "\n",
              "    .colab-df-convert:hover {\n",
              "      background-color: #E2EBFA;\n",
              "      box-shadow: 0px 1px 2px rgba(60, 64, 67, 0.3), 0px 1px 3px 1px rgba(60, 64, 67, 0.15);\n",
              "      fill: #174EA6;\n",
              "    }\n",
              "\n",
              "    [theme=dark] .colab-df-convert {\n",
              "      background-color: #3B4455;\n",
              "      fill: #D2E3FC;\n",
              "    }\n",
              "\n",
              "    [theme=dark] .colab-df-convert:hover {\n",
              "      background-color: #434B5C;\n",
              "      box-shadow: 0px 1px 3px 1px rgba(0, 0, 0, 0.15);\n",
              "      filter: drop-shadow(0px 1px 2px rgba(0, 0, 0, 0.3));\n",
              "      fill: #FFFFFF;\n",
              "    }\n",
              "  </style>\n",
              "\n",
              "      <script>\n",
              "        const buttonEl =\n",
              "          document.querySelector('#df-44f13ba2-5c8b-4b9d-b8b9-3a0ff382e0bd button.colab-df-convert');\n",
              "        buttonEl.style.display =\n",
              "          google.colab.kernel.accessAllowed ? 'block' : 'none';\n",
              "\n",
              "        async function convertToInteractive(key) {\n",
              "          const element = document.querySelector('#df-44f13ba2-5c8b-4b9d-b8b9-3a0ff382e0bd');\n",
              "          const dataTable =\n",
              "            await google.colab.kernel.invokeFunction('convertToInteractive',\n",
              "                                                     [key], {});\n",
              "          if (!dataTable) return;\n",
              "\n",
              "          const docLinkHtml = 'Like what you see? Visit the ' +\n",
              "            '<a target=\"_blank\" href=https://colab.research.google.com/notebooks/data_table.ipynb>data table notebook</a>'\n",
              "            + ' to learn more about interactive tables.';\n",
              "          element.innerHTML = '';\n",
              "          dataTable['output_type'] = 'display_data';\n",
              "          await google.colab.output.renderOutput(dataTable, element);\n",
              "          const docLink = document.createElement('div');\n",
              "          docLink.innerHTML = docLinkHtml;\n",
              "          element.appendChild(docLink);\n",
              "        }\n",
              "      </script>\n",
              "    </div>\n",
              "  </div>\n",
              "  "
            ],
            "text/plain": [
              "           Year  Month  Day  Hour   latitude   longitude  qa_value  \\\n",
              "111601   2021.0    9.0  3.0  12.0 -80.594292   -6.965050    0.0007   \n",
              "111602   2021.0    9.0  3.0  12.0 -80.614792   -6.445107    0.0007   \n",
              "111603   2021.0    9.0  3.0  12.0 -80.634285   -5.930222    0.0007   \n",
              "112051   2021.0    9.0  3.0  12.0 -80.550713   -6.855190    0.0007   \n",
              "112052   2021.0    9.0  3.0  12.0 -80.571037   -6.337364    0.0007   \n",
              "...         ...    ...  ...   ...        ...         ...       ...   \n",
              "1783803  2021.0    9.0  3.0  13.0  65.144745 -119.008179    0.0005   \n",
              "1784251  2021.0    9.0  3.0  13.0  64.991348 -118.846741    0.0005   \n",
              "1784252  2021.0    9.0  3.0  13.0  65.054802 -118.978302    0.0005   \n",
              "1784253  2021.0    9.0  3.0  13.0  65.117287 -119.108696    0.0005   \n",
              "1784701  2021.0    9.0  3.0  13.0  64.963997 -118.946609    0.0005   \n",
              "\n",
              "         nitrogendioxide_tropospheric_column  \\\n",
              "111601                         -5.447930e-06   \n",
              "111602                         -2.600548e-06   \n",
              "111603                         -1.922391e-09   \n",
              "112051                         -2.207261e-06   \n",
              "112052                         -8.031790e-07   \n",
              "...                                      ...   \n",
              "1783803                        -9.257338e-05   \n",
              "1784251                        -5.827203e-05   \n",
              "1784252                        -7.818608e-05   \n",
              "1784253                        -6.341398e-05   \n",
              "1784701                        -5.868813e-05   \n",
              "\n",
              "         nitrogendioxide_tropospheric_column_precision  \\\n",
              "111601                                        0.000010   \n",
              "111602                                        0.000010   \n",
              "111603                                        0.000010   \n",
              "112051                                        0.000009   \n",
              "112052                                        0.000009   \n",
              "...                                                ...   \n",
              "1783803                                       0.000067   \n",
              "1784251                                       0.000064   \n",
              "1784252                                       0.000066   \n",
              "1784253                                       0.000067   \n",
              "1784701                                       0.000063   \n",
              "\n",
              "         nitrogendioxide_tropospheric_column_precision_kernel  \\\n",
              "111601                                            0.000009      \n",
              "111602                                            0.000010      \n",
              "111603                                            0.000010      \n",
              "112051                                            0.000009      \n",
              "112052                                            0.000009      \n",
              "...                                                    ...      \n",
              "1783803                                           0.000064      \n",
              "1784251                                           0.000063      \n",
              "1784252                                           0.000064      \n",
              "1784253                                           0.000065      \n",
              "1784701                                           0.000062      \n",
              "\n",
              "         air_mass_factor_troposphere  air_mass_factor_total  \\\n",
              "111601                     10.840795              15.060045   \n",
              "111602                     10.866412              15.080253   \n",
              "111603                     10.856234              15.100107   \n",
              "112051                     10.820048              14.973653   \n",
              "112052                     10.833792              14.990416   \n",
              "...                              ...                    ...   \n",
              "1783803                     1.555661              12.218963   \n",
              "1784251                     1.564162              12.188481   \n",
              "1784252                     1.557551              12.234278   \n",
              "1784253                     1.550752              12.281730   \n",
              "1784701                     1.597369              12.257891   \n",
              "\n",
              "         tm5_tropopause_layer_index  \n",
              "111601                         20.0  \n",
              "111602                         20.0  \n",
              "111603                         20.0  \n",
              "112051                         20.0  \n",
              "112052                         20.0  \n",
              "...                             ...  \n",
              "1783803                        16.0  \n",
              "1784251                        16.0  \n",
              "1784252                        16.0  \n",
              "1784253                        16.0  \n",
              "1784701                        16.0  \n",
              "\n",
              "[1570738 rows x 13 columns]"
            ]
          },
          "execution_count": 99,
          "metadata": {},
          "output_type": "execute_result"
        }
      ],
      "source": [
        "df = df.dropna()"
      ]
    },
    {
      "cell_type": "code",
      "execution_count": null,
      "metadata": {
        "id": "UzqtCPN3CIh2"
      },
      "outputs": [],
      "source": [
        "df.loc[(df['latitude'] >= 52.35900) & (df['latitude'] <= 52.85400)]"
      ]
    },
    {
      "cell_type": "code",
      "execution_count": null,
      "metadata": {
        "colab": {
          "base_uri": "https://localhost:8080/",
          "height": 327
        },
        "id": "4_YTFP2Wv3Sg",
        "outputId": "316b55f7-8e3d-42aa-884d-fd092482fce0"
      },
      "outputs": [
        {
          "data": {
            "image/png": "[encoded data removed]",
            "text/plain": [
              "<Figure size 720x432 with 1 Axes>"
            ]
          },
          "metadata": {},
          "output_type": "display_data"
        }
      ],
      "source": [
        "#https://stackoverflow.com/questions/62649240/python-geopandas-module-object-not-callable\n",
        "\n",
        "geometry = [Point(xy) for xy in zip(df['longitude'], df['latitude'])]\n",
        "gdf = GeoDataFrame(df, geometry=geometry)   \n",
        "\n",
        "#this is a simple map that goes with geopandas\n",
        "world = gpd.read_file(gpd.datasets.get_path('naturalearth_lowres'))\n",
        "gdf.plot(ax=world.plot(figsize=(10, 6)), marker='o', color='red', markersize=15);"
      ]
    }
  ],
  "metadata": {
    "colab": {
      "provenance": [],
      "toc_visible": true
    },
    "kernelspec": {
      "display_name": "Python 3",
      "name": "python3"
    },
    "language_info": {
      "name": "python"
    }
  },
  "nbformat": 4,
  "nbformat_minor": 0
}