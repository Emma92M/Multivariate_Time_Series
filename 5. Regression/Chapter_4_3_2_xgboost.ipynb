{
  "nbformat": 4,
  "nbformat_minor": 0,
  "metadata": {
    "colab": {
      "provenance": []
    },
    "kernelspec": {
      "name": "python3",
      "display_name": "Python 3"
    },
    "language_info": {
      "name": "python"
    }
  },
  "cells": [
    {
      "cell_type": "markdown",
      "source": [
        "#*4.3.2\tXGBoost Regression*\n",
        "\n",
        "#**Chapter 4.3.2**"
      ],
      "metadata": {
        "id": "lOOv29EgYHAX"
      }
    },
    {
      "cell_type": "code",
      "execution_count": null,
      "metadata": {
        "colab": {
          "base_uri": "https://localhost:8080/"
        },
        "id": "JwoktVviv2lO",
        "outputId": "b93592d4-bc6a-4343-f945-590c8c009ea3"
      },
      "outputs": [
        {
          "output_type": "stream",
          "name": "stdout",
          "text": [
            "Mounted at /content/gdrive\n"
          ]
        }
      ],
      "source": [
        "from google.colab import drive\n",
        "drive.mount('/content/gdrive')"
      ]
    },
    {
      "cell_type": "code",
      "source": [
        "\n",
        "# Import librries \n",
        "import pandas as pd\n",
        "from pandas import DataFrame\n",
        "from pandas import concat\n",
        "from sklearn.preprocessing import LabelEncoder\n",
        "from sklearn.preprocessing import MinMaxScaler\n",
        "import glob #for maps\n",
        "import plotly.graph_objects as go\n",
        "import plotly.offline\n",
        "import matplotlib.pyplot as plt\n",
        "from datetime import datetime\n",
        "import warnings\n",
        "import itertools\n",
        "import numpy as np\n",
        "from statsmodels.tsa.stattools import adfuller\n",
        "from sklearn.metrics import mean_squared_error, r2_score, mean_absolute_error\n",
        "from math import sqrt\n",
        "warnings.filterwarnings(\"ignore\")\n",
        "import plotly.express as px\n",
        "import seaborn as sns\n",
        "import pandas as pd\n",
        "import plotly.graph_objects as go\n",
        "import matplotlib.pyplot as plt\n",
        "%matplotlib inline\n",
        "from sklearn.model_selection import TimeSeriesSplit\n",
        "import warnings\n",
        "from sklearn.model_selection import RandomizedSearchCV, GridSearchCV\n",
        "from xgboost import XGBClassifier\n",
        "from numpy import absolute\n",
        "from numpy import square\n",
        "from sklearn.model_selection import cross_val_score\n",
        "import xgboost as xgb\n",
        "from xgboost import plot_importance, plot_tree"
      ],
      "metadata": {
        "id": "tI1wYtRkv_O9"
      },
      "execution_count": null,
      "outputs": []
    },
    {
      "cell_type": "markdown",
      "source": [
        "##**Data Preprocessing**"
      ],
      "metadata": {
        "id": "C3YRpnToMfoQ"
      }
    },
    {
      "cell_type": "code",
      "source": [
        "all_files = glob.glob('/content/gdrive/MyDrive/Sent/Ground/' +\"*.csv\")\n",
        "all_files_1 = glob.glob('/content/gdrive/MyDrive/Sent/Ground1/' +\"*.csv\")\n",
        "li = []\n",
        "for filename in all_files:\n",
        "  df= pd.read_csv(filename, index_col=None, header=0)\n",
        "  li.append(df)\n",
        "\n",
        "df = pd.concat(li, ignore_index=True)\n",
        "li1 = []\n",
        "for filename in all_files_1:\n",
        "  df1= pd.read_csv(filename, index_col=None, header=0)\n",
        "  li1.append(df1)\n",
        "\n",
        "df1 = pd.concat(li1, ignore_index=True)\n",
        "data10= pd.concat([df,df1])\n",
        "print(df.shape)\n",
        "print(df1.shape)\n",
        "print(data10.shape)\n",
        "print(data10['country'].unique())\n",
        "data10 = data10.loc[(data10['country'] == 'DE')]\n",
        "print(data10['parameter'].unique())\n",
        "table = pd.pivot_table(data10, values='value', index=['city','utc','latitude','longitude'],columns=['parameter'])\n",
        "table = table.reset_index()\n",
        "print(table.head(5))\n",
        "print(table.shape)\n",
        "air_data_ground = table.fillna(table.mean())\n",
        "air_data_ground = air_data_ground.loc[(air_data_ground['pm10'] < 20) & (air_data_ground['pm25'] < 20)]\n",
        "air_data_ground[\"utc\"] = pd.to_datetime(air_data_ground[\"utc\"]).dt.normalize()\n",
        "air_data_ground[\"utc\"] = pd.to_datetime(air_data_ground[\"utc\"]).dt.tz_localize(None)\n",
        "air_data_ground=air_data_ground.groupby('utc')[['pm10', 'pm25']].mean()\n",
        "air_data_ground = air_data_ground.reset_index()\n",
        "air_data_ground \n",
        "fin_data = pd.read_csv('/content/gdrive/MyDrive/Sent/final_data_May20_Sept22.csv') #without outliers |"
      ],
      "metadata": {
        "colab": {
          "base_uri": "https://localhost:8080/"
        },
        "id": "Ou6oATd3wMUw",
        "outputId": "bd72255f-a084-44e7-db88-a5d3bbf5d8da"
      },
      "execution_count": null,
      "outputs": [
        {
          "output_type": "stream",
          "name": "stdout",
          "text": [
            "(524184, 11)\n",
            "(233039, 11)\n",
            "(757223, 11)\n",
            "['DE' 'US']\n",
            "['pm10' 'pm25']\n",
            "parameter    city                        utc   latitude  longitude  pm10  pm25\n",
            "0          Berlin  2020-05-01T00:00:00+00:00  52.438115  13.387720  6.94   NaN\n",
            "1          Berlin  2020-05-01T00:00:00+00:00  52.463611  13.318250  7.02   NaN\n",
            "2          Berlin  2020-05-01T00:00:00+00:00  52.467534  13.441654  7.64   NaN\n",
            "3          Berlin  2020-05-01T00:00:00+00:00  52.473192  13.225144  5.99   NaN\n",
            "4          Berlin  2020-05-01T00:00:00+00:00  52.481709  13.433967  6.95   NaN\n",
            "(22254, 6)\n"
          ]
        }
      ]
    },
    {
      "cell_type": "code",
      "source": [
        "fin_data.head()"
      ],
      "metadata": {
        "colab": {
          "base_uri": "https://localhost:8080/",
          "height": 444
        },
        "id": "aTbL8g9NwfBz",
        "outputId": "9eb2ef32-c479-4651-e58c-fa462f97812d"
      },
      "execution_count": null,
      "outputs": [
        {
          "output_type": "execute_result",
          "data": {
            "text/plain": [
              "    latitude  longitute    Year  Month  Day  Hour  \\\n",
              "0  52.157350  13.716069  2020.0    5.0  1.0  11.0   \n",
              "1  52.192528  13.806399  2020.0    5.0  1.0  11.0   \n",
              "2  52.227226  13.895948  2020.0    5.0  1.0  11.0   \n",
              "3  52.167213  13.589217  2020.0    5.0  1.0  11.0   \n",
              "4  52.202910  13.680410  2020.0    5.0  1.0  11.0   \n",
              "\n",
              "   nitrogendioxide_tropospheric_column  \\\n",
              "0                         1.459978e-05   \n",
              "1                        -6.227974e-06   \n",
              "2                         5.757178e-07   \n",
              "3                         1.580315e-05   \n",
              "4                         1.687531e-05   \n",
              "\n",
              "   nitrogendioxide_tropospheric_column_precision  \\\n",
              "0                                       0.000018   \n",
              "1                                       0.000014   \n",
              "2                                       0.000013   \n",
              "3                                       0.000011   \n",
              "4                                       0.000016   \n",
              "\n",
              "   nitrogendioxide_tropospheric_column_precision_kernel  \\\n",
              "0                                           0.000017      \n",
              "1                                           0.000014      \n",
              "2                                           0.000013      \n",
              "3                                           0.000011      \n",
              "4                                           0.000015      \n",
              "\n",
              "   air_mass_factor_troposphere  air_mass_factor_total  \\\n",
              "0                     0.952377               1.804340   \n",
              "1                     0.951523               1.798625   \n",
              "2                     0.918600               1.780306   \n",
              "3                     1.077755               1.861350   \n",
              "4                     1.005521               1.828623   \n",
              "\n",
              "   tm5_tropopause_layer_index  qa_value         utc                 date  \\\n",
              "0                        14.0    0.0074  2020-05-01  2020-05-01 11:00:00   \n",
              "1                        14.0    0.0074  2020-05-01  2020-05-01 11:00:00   \n",
              "2                        14.0    0.0074  2020-05-01  2020-05-01 11:00:00   \n",
              "3                        14.0    0.0074  2020-05-01  2020-05-01 11:00:00   \n",
              "4                        14.0    0.0074  2020-05-01  2020-05-01 11:00:00   \n",
              "\n",
              "     pm10       pm25  \n",
              "0  6.2615  11.934496  \n",
              "1  6.2615  11.934496  \n",
              "2  6.2615  11.934496  \n",
              "3  6.2615  11.934496  \n",
              "4  6.2615  11.934496  "
            ],
            "text/html": [
              "\n",
              "  <div id=\"df-a1633e7a-4ed7-425e-b1b1-4f5127f54383\">\n",
              "    <div class=\"colab-df-container\">\n",
              "      <div>\n",
              "<style scoped>\n",
              "    .dataframe tbody tr th:only-of-type {\n",
              "        vertical-align: middle;\n",
              "    }\n",
              "\n",
              "    .dataframe tbody tr th {\n",
              "        vertical-align: top;\n",
              "    }\n",
              "\n",
              "    .dataframe thead th {\n",
              "        text-align: right;\n",
              "    }\n",
              "</style>\n",
              "<table border=\"1\" class=\"dataframe\">\n",
              "  <thead>\n",
              "    <tr style=\"text-align: right;\">\n",
              "      <th></th>\n",
              "      <th>latitude</th>\n",
              "      <th>longitute</th>\n",
              "      <th>Year</th>\n",
              "      <th>Month</th>\n",
              "      <th>Day</th>\n",
              "      <th>Hour</th>\n",
              "      <th>nitrogendioxide_tropospheric_column</th>\n",
              "      <th>nitrogendioxide_tropospheric_column_precision</th>\n",
              "      <th>nitrogendioxide_tropospheric_column_precision_kernel</th>\n",
              "      <th>air_mass_factor_troposphere</th>\n",
              "      <th>air_mass_factor_total</th>\n",
              "      <th>tm5_tropopause_layer_index</th>\n",
              "      <th>qa_value</th>\n",
              "      <th>utc</th>\n",
              "      <th>date</th>\n",
              "      <th>pm10</th>\n",
              "      <th>pm25</th>\n",
              "    </tr>\n",
              "  </thead>\n",
              "  <tbody>\n",
              "    <tr>\n",
              "      <th>0</th>\n",
              "      <td>52.157350</td>\n",
              "      <td>13.716069</td>\n",
              "      <td>2020.0</td>\n",
              "      <td>5.0</td>\n",
              "      <td>1.0</td>\n",
              "      <td>11.0</td>\n",
              "      <td>1.459978e-05</td>\n",
              "      <td>0.000018</td>\n",
              "      <td>0.000017</td>\n",
              "      <td>0.952377</td>\n",
              "      <td>1.804340</td>\n",
              "      <td>14.0</td>\n",
              "      <td>0.0074</td>\n",
              "      <td>2020-05-01</td>\n",
              "      <td>2020-05-01 11:00:00</td>\n",
              "      <td>6.2615</td>\n",
              "      <td>11.934496</td>\n",
              "    </tr>\n",
              "    <tr>\n",
              "      <th>1</th>\n",
              "      <td>52.192528</td>\n",
              "      <td>13.806399</td>\n",
              "      <td>2020.0</td>\n",
              "      <td>5.0</td>\n",
              "      <td>1.0</td>\n",
              "      <td>11.0</td>\n",
              "      <td>-6.227974e-06</td>\n",
              "      <td>0.000014</td>\n",
              "      <td>0.000014</td>\n",
              "      <td>0.951523</td>\n",
              "      <td>1.798625</td>\n",
              "      <td>14.0</td>\n",
              "      <td>0.0074</td>\n",
              "      <td>2020-05-01</td>\n",
              "      <td>2020-05-01 11:00:00</td>\n",
              "      <td>6.2615</td>\n",
              "      <td>11.934496</td>\n",
              "    </tr>\n",
              "    <tr>\n",
              "      <th>2</th>\n",
              "      <td>52.227226</td>\n",
              "      <td>13.895948</td>\n",
              "      <td>2020.0</td>\n",
              "      <td>5.0</td>\n",
              "      <td>1.0</td>\n",
              "      <td>11.0</td>\n",
              "      <td>5.757178e-07</td>\n",
              "      <td>0.000013</td>\n",
              "      <td>0.000013</td>\n",
              "      <td>0.918600</td>\n",
              "      <td>1.780306</td>\n",
              "      <td>14.0</td>\n",
              "      <td>0.0074</td>\n",
              "      <td>2020-05-01</td>\n",
              "      <td>2020-05-01 11:00:00</td>\n",
              "      <td>6.2615</td>\n",
              "      <td>11.934496</td>\n",
              "    </tr>\n",
              "    <tr>\n",
              "      <th>3</th>\n",
              "      <td>52.167213</td>\n",
              "      <td>13.589217</td>\n",
              "      <td>2020.0</td>\n",
              "      <td>5.0</td>\n",
              "      <td>1.0</td>\n",
              "      <td>11.0</td>\n",
              "      <td>1.580315e-05</td>\n",
              "      <td>0.000011</td>\n",
              "      <td>0.000011</td>\n",
              "      <td>1.077755</td>\n",
              "      <td>1.861350</td>\n",
              "      <td>14.0</td>\n",
              "      <td>0.0074</td>\n",
              "      <td>2020-05-01</td>\n",
              "      <td>2020-05-01 11:00:00</td>\n",
              "      <td>6.2615</td>\n",
              "      <td>11.934496</td>\n",
              "    </tr>\n",
              "    <tr>\n",
              "      <th>4</th>\n",
              "      <td>52.202910</td>\n",
              "      <td>13.680410</td>\n",
              "      <td>2020.0</td>\n",
              "      <td>5.0</td>\n",
              "      <td>1.0</td>\n",
              "      <td>11.0</td>\n",
              "      <td>1.687531e-05</td>\n",
              "      <td>0.000016</td>\n",
              "      <td>0.000015</td>\n",
              "      <td>1.005521</td>\n",
              "      <td>1.828623</td>\n",
              "      <td>14.0</td>\n",
              "      <td>0.0074</td>\n",
              "      <td>2020-05-01</td>\n",
              "      <td>2020-05-01 11:00:00</td>\n",
              "      <td>6.2615</td>\n",
              "      <td>11.934496</td>\n",
              "    </tr>\n",
              "  </tbody>\n",
              "</table>\n",
              "</div>\n",
              "      <button class=\"colab-df-convert\" onclick=\"convertToInteractive('df-a1633e7a-4ed7-425e-b1b1-4f5127f54383')\"\n",
              "              title=\"Convert this dataframe to an interactive table.\"\n",
              "              style=\"display:none;\">\n",
              "        \n",
              "  <svg xmlns=\"http://www.w3.org/2000/svg\" height=\"24px\"viewBox=\"0 0 24 24\"\n",
              "       width=\"24px\">\n",
              "    <path d=\"M0 0h24v24H0V0z\" fill=\"none\"/>\n",
              "    <path d=\"M18.56 5.44l.94 2.06.94-2.06 2.06-.94-2.06-.94-.94-2.06-.94 2.06-2.06.94zm-11 1L8.5 8.5l.94-2.06 2.06-.94-2.06-.94L8.5 2.5l-.94 2.06-2.06.94zm10 10l.94 2.06.94-2.06 2.06-.94-2.06-.94-.94-2.06-.94 2.06-2.06.94z\"/><path d=\"M17.41 7.96l-1.37-1.37c-.4-.4-.92-.59-1.43-.59-.52 0-1.04.2-1.43.59L10.3 9.45l-7.72 7.72c-.78.78-.78 2.05 0 2.83L4 21.41c.39.39.9.59 1.41.59.51 0 1.02-.2 1.41-.59l7.78-7.78 2.81-2.81c.8-.78.8-2.07 0-2.86zM5.41 20L4 18.59l7.72-7.72 1.47 1.35L5.41 20z\"/>\n",
              "  </svg>\n",
              "      </button>\n",
              "      \n",
              "  <style>\n",
              "    .colab-df-container {\n",
              "      display:flex;\n",
              "      flex-wrap:wrap;\n",
              "      gap: 12px;\n",
              "    }\n",
              "\n",
              "    .colab-df-convert {\n",
              "      background-color: #E8F0FE;\n",
              "      border: none;\n",
              "      border-radius: 50%;\n",
              "      cursor: pointer;\n",
              "      display: none;\n",
              "      fill: #1967D2;\n",
              "      height: 32px;\n",
              "      padding: 0 0 0 0;\n",
              "      width: 32px;\n",
              "    }\n",
              "\n",
              "    .colab-df-convert:hover {\n",
              "      background-color: #E2EBFA;\n",
              "      box-shadow: 0px 1px 2px rgba(60, 64, 67, 0.3), 0px 1px 3px 1px rgba(60, 64, 67, 0.15);\n",
              "      fill: #174EA6;\n",
              "    }\n",
              "\n",
              "    [theme=dark] .colab-df-convert {\n",
              "      background-color: #3B4455;\n",
              "      fill: #D2E3FC;\n",
              "    }\n",
              "\n",
              "    [theme=dark] .colab-df-convert:hover {\n",
              "      background-color: #434B5C;\n",
              "      box-shadow: 0px 1px 3px 1px rgba(0, 0, 0, 0.15);\n",
              "      filter: drop-shadow(0px 1px 2px rgba(0, 0, 0, 0.3));\n",
              "      fill: #FFFFFF;\n",
              "    }\n",
              "  </style>\n",
              "\n",
              "      <script>\n",
              "        const buttonEl =\n",
              "          document.querySelector('#df-a1633e7a-4ed7-425e-b1b1-4f5127f54383 button.colab-df-convert');\n",
              "        buttonEl.style.display =\n",
              "          google.colab.kernel.accessAllowed ? 'block' : 'none';\n",
              "\n",
              "        async function convertToInteractive(key) {\n",
              "          const element = document.querySelector('#df-a1633e7a-4ed7-425e-b1b1-4f5127f54383');\n",
              "          const dataTable =\n",
              "            await google.colab.kernel.invokeFunction('convertToInteractive',\n",
              "                                                     [key], {});\n",
              "          if (!dataTable) return;\n",
              "\n",
              "          const docLinkHtml = 'Like what you see? Visit the ' +\n",
              "            '<a target=\"_blank\" href=https://colab.research.google.com/notebooks/data_table.ipynb>data table notebook</a>'\n",
              "            + ' to learn more about interactive tables.';\n",
              "          element.innerHTML = '';\n",
              "          dataTable['output_type'] = 'display_data';\n",
              "          await google.colab.output.renderOutput(dataTable, element);\n",
              "          const docLink = document.createElement('div');\n",
              "          docLink.innerHTML = docLinkHtml;\n",
              "          element.appendChild(docLink);\n",
              "        }\n",
              "      </script>\n",
              "    </div>\n",
              "  </div>\n",
              "  "
            ]
          },
          "metadata": {},
          "execution_count": 51
        }
      ]
    },
    {
      "cell_type": "code",
      "source": [
        "data_LSTM_test= fin_data.groupby(['utc'])['nitrogendioxide_tropospheric_column','nitrogendioxide_tropospheric_column_precision','nitrogendioxide_tropospheric_column_precision_kernel','air_mass_factor_troposphere', 'air_mass_factor_total',\t'pm10'].mean()"
      ],
      "metadata": {
        "id": "GtoLd9YcwaFZ"
      },
      "execution_count": null,
      "outputs": []
    },
    {
      "cell_type": "code",
      "source": [
        "data_LSTM_test = data_LSTM_test.reset_index()"
      ],
      "metadata": {
        "id": "vUtvQJAowpwn"
      },
      "execution_count": null,
      "outputs": []
    },
    {
      "cell_type": "code",
      "source": [
        "data_LSTM_test.head()"
      ],
      "metadata": {
        "colab": {
          "base_uri": "https://localhost:8080/",
          "height": 357
        },
        "id": "UlPOXLLSws1D",
        "outputId": "a1876c0d-56d5-45d6-a221-343518e85208"
      },
      "execution_count": null,
      "outputs": [
        {
          "output_type": "execute_result",
          "data": {
            "text/plain": [
              "          utc  nitrogendioxide_tropospheric_column  \\\n",
              "0  2020-05-01                             0.000012   \n",
              "1  2020-05-02                             0.000037   \n",
              "2  2020-05-03                             0.000041   \n",
              "3  2020-05-04                             0.000055   \n",
              "4  2020-05-05                             0.000028   \n",
              "\n",
              "   nitrogendioxide_tropospheric_column_precision  \\\n",
              "0                                       0.000012   \n",
              "1                                       0.000017   \n",
              "2                                       0.000021   \n",
              "3                                       0.000029   \n",
              "4                                       0.000016   \n",
              "\n",
              "   nitrogendioxide_tropospheric_column_precision_kernel  \\\n",
              "0                                           0.000012      \n",
              "1                                           0.000015      \n",
              "2                                           0.000020      \n",
              "3                                           0.000027      \n",
              "4                                           0.000015      \n",
              "\n",
              "   air_mass_factor_troposphere  air_mass_factor_total       pm10  \n",
              "0                     1.237246               2.027335   6.261500  \n",
              "1                     1.116818               1.851356   7.395500  \n",
              "2                     0.819890               1.837840  10.091111  \n",
              "3                     0.937185               1.422979  15.311250  \n",
              "4                     1.289110               2.089066  10.266667  "
            ],
            "text/html": [
              "\n",
              "  <div id=\"df-d078eea9-386d-4064-a5f2-ab27a663f96d\">\n",
              "    <div class=\"colab-df-container\">\n",
              "      <div>\n",
              "<style scoped>\n",
              "    .dataframe tbody tr th:only-of-type {\n",
              "        vertical-align: middle;\n",
              "    }\n",
              "\n",
              "    .dataframe tbody tr th {\n",
              "        vertical-align: top;\n",
              "    }\n",
              "\n",
              "    .dataframe thead th {\n",
              "        text-align: right;\n",
              "    }\n",
              "</style>\n",
              "<table border=\"1\" class=\"dataframe\">\n",
              "  <thead>\n",
              "    <tr style=\"text-align: right;\">\n",
              "      <th></th>\n",
              "      <th>utc</th>\n",
              "      <th>nitrogendioxide_tropospheric_column</th>\n",
              "      <th>nitrogendioxide_tropospheric_column_precision</th>\n",
              "      <th>nitrogendioxide_tropospheric_column_precision_kernel</th>\n",
              "      <th>air_mass_factor_troposphere</th>\n",
              "      <th>air_mass_factor_total</th>\n",
              "      <th>pm10</th>\n",
              "    </tr>\n",
              "  </thead>\n",
              "  <tbody>\n",
              "    <tr>\n",
              "      <th>0</th>\n",
              "      <td>2020-05-01</td>\n",
              "      <td>0.000012</td>\n",
              "      <td>0.000012</td>\n",
              "      <td>0.000012</td>\n",
              "      <td>1.237246</td>\n",
              "      <td>2.027335</td>\n",
              "      <td>6.261500</td>\n",
              "    </tr>\n",
              "    <tr>\n",
              "      <th>1</th>\n",
              "      <td>2020-05-02</td>\n",
              "      <td>0.000037</td>\n",
              "      <td>0.000017</td>\n",
              "      <td>0.000015</td>\n",
              "      <td>1.116818</td>\n",
              "      <td>1.851356</td>\n",
              "      <td>7.395500</td>\n",
              "    </tr>\n",
              "    <tr>\n",
              "      <th>2</th>\n",
              "      <td>2020-05-03</td>\n",
              "      <td>0.000041</td>\n",
              "      <td>0.000021</td>\n",
              "      <td>0.000020</td>\n",
              "      <td>0.819890</td>\n",
              "      <td>1.837840</td>\n",
              "      <td>10.091111</td>\n",
              "    </tr>\n",
              "    <tr>\n",
              "      <th>3</th>\n",
              "      <td>2020-05-04</td>\n",
              "      <td>0.000055</td>\n",
              "      <td>0.000029</td>\n",
              "      <td>0.000027</td>\n",
              "      <td>0.937185</td>\n",
              "      <td>1.422979</td>\n",
              "      <td>15.311250</td>\n",
              "    </tr>\n",
              "    <tr>\n",
              "      <th>4</th>\n",
              "      <td>2020-05-05</td>\n",
              "      <td>0.000028</td>\n",
              "      <td>0.000016</td>\n",
              "      <td>0.000015</td>\n",
              "      <td>1.289110</td>\n",
              "      <td>2.089066</td>\n",
              "      <td>10.266667</td>\n",
              "    </tr>\n",
              "  </tbody>\n",
              "</table>\n",
              "</div>\n",
              "      <button class=\"colab-df-convert\" onclick=\"convertToInteractive('df-d078eea9-386d-4064-a5f2-ab27a663f96d')\"\n",
              "              title=\"Convert this dataframe to an interactive table.\"\n",
              "              style=\"display:none;\">\n",
              "        \n",
              "  <svg xmlns=\"http://www.w3.org/2000/svg\" height=\"24px\"viewBox=\"0 0 24 24\"\n",
              "       width=\"24px\">\n",
              "    <path d=\"M0 0h24v24H0V0z\" fill=\"none\"/>\n",
              "    <path d=\"M18.56 5.44l.94 2.06.94-2.06 2.06-.94-2.06-.94-.94-2.06-.94 2.06-2.06.94zm-11 1L8.5 8.5l.94-2.06 2.06-.94-2.06-.94L8.5 2.5l-.94 2.06-2.06.94zm10 10l.94 2.06.94-2.06 2.06-.94-2.06-.94-.94-2.06-.94 2.06-2.06.94z\"/><path d=\"M17.41 7.96l-1.37-1.37c-.4-.4-.92-.59-1.43-.59-.52 0-1.04.2-1.43.59L10.3 9.45l-7.72 7.72c-.78.78-.78 2.05 0 2.83L4 21.41c.39.39.9.59 1.41.59.51 0 1.02-.2 1.41-.59l7.78-7.78 2.81-2.81c.8-.78.8-2.07 0-2.86zM5.41 20L4 18.59l7.72-7.72 1.47 1.35L5.41 20z\"/>\n",
              "  </svg>\n",
              "      </button>\n",
              "      \n",
              "  <style>\n",
              "    .colab-df-container {\n",
              "      display:flex;\n",
              "      flex-wrap:wrap;\n",
              "      gap: 12px;\n",
              "    }\n",
              "\n",
              "    .colab-df-convert {\n",
              "      background-color: #E8F0FE;\n",
              "      border: none;\n",
              "      border-radius: 50%;\n",
              "      cursor: pointer;\n",
              "      display: none;\n",
              "      fill: #1967D2;\n",
              "      height: 32px;\n",
              "      padding: 0 0 0 0;\n",
              "      width: 32px;\n",
              "    }\n",
              "\n",
              "    .colab-df-convert:hover {\n",
              "      background-color: #E2EBFA;\n",
              "      box-shadow: 0px 1px 2px rgba(60, 64, 67, 0.3), 0px 1px 3px 1px rgba(60, 64, 67, 0.15);\n",
              "      fill: #174EA6;\n",
              "    }\n",
              "\n",
              "    [theme=dark] .colab-df-convert {\n",
              "      background-color: #3B4455;\n",
              "      fill: #D2E3FC;\n",
              "    }\n",
              "\n",
              "    [theme=dark] .colab-df-convert:hover {\n",
              "      background-color: #434B5C;\n",
              "      box-shadow: 0px 1px 3px 1px rgba(0, 0, 0, 0.15);\n",
              "      filter: drop-shadow(0px 1px 2px rgba(0, 0, 0, 0.3));\n",
              "      fill: #FFFFFF;\n",
              "    }\n",
              "  </style>\n",
              "\n",
              "      <script>\n",
              "        const buttonEl =\n",
              "          document.querySelector('#df-d078eea9-386d-4064-a5f2-ab27a663f96d button.colab-df-convert');\n",
              "        buttonEl.style.display =\n",
              "          google.colab.kernel.accessAllowed ? 'block' : 'none';\n",
              "\n",
              "        async function convertToInteractive(key) {\n",
              "          const element = document.querySelector('#df-d078eea9-386d-4064-a5f2-ab27a663f96d');\n",
              "          const dataTable =\n",
              "            await google.colab.kernel.invokeFunction('convertToInteractive',\n",
              "                                                     [key], {});\n",
              "          if (!dataTable) return;\n",
              "\n",
              "          const docLinkHtml = 'Like what you see? Visit the ' +\n",
              "            '<a target=\"_blank\" href=https://colab.research.google.com/notebooks/data_table.ipynb>data table notebook</a>'\n",
              "            + ' to learn more about interactive tables.';\n",
              "          element.innerHTML = '';\n",
              "          dataTable['output_type'] = 'display_data';\n",
              "          await google.colab.output.renderOutput(dataTable, element);\n",
              "          const docLink = document.createElement('div');\n",
              "          docLink.innerHTML = docLinkHtml;\n",
              "          element.appendChild(docLink);\n",
              "        }\n",
              "      </script>\n",
              "    </div>\n",
              "  </div>\n",
              "  "
            ]
          },
          "metadata": {},
          "execution_count": 54
        }
      ]
    },
    {
      "cell_type": "code",
      "source": [
        "df = data_LSTM_test['pm10'].shift(1)"
      ],
      "metadata": {
        "id": "qubkCfF6wunc"
      },
      "execution_count": null,
      "outputs": []
    },
    {
      "cell_type": "code",
      "source": [
        "data_LSTM_test['pm10_lagged'] = df"
      ],
      "metadata": {
        "id": "Zc47P31kxrF6"
      },
      "execution_count": null,
      "outputs": []
    },
    {
      "cell_type": "code",
      "source": [
        "data_LSTM_test = data_LSTM_test.dropna()"
      ],
      "metadata": {
        "id": "2qCPZ4gDxzDl"
      },
      "execution_count": null,
      "outputs": []
    },
    {
      "cell_type": "code",
      "source": [
        "data_LSTM_test = data_LSTM_test[['utc','nitrogendioxide_tropospheric_column'\t,'nitrogendioxide_tropospheric_column_precision'\t,'nitrogendioxide_tropospheric_column_precision_kernel'\t, 'air_mass_factor_troposphere', 'air_mass_factor_total',\t'pm10_lagged', 'pm10']]\n",
        "data_LSTM_test['utc'] = pd.to_datetime(data_LSTM_test['utc'], format='%Y-%m-%d')"
      ],
      "metadata": {
        "id": "FP2Lm7d7x0pV"
      },
      "execution_count": null,
      "outputs": []
    },
    {
      "cell_type": "code",
      "source": [
        "data_LSTM_test.head()"
      ],
      "metadata": {
        "colab": {
          "base_uri": "https://localhost:8080/",
          "height": 260
        },
        "id": "STtSlj1fx_CZ",
        "outputId": "70ca259e-0b17-4620-c29b-e0ac1dfaf412"
      },
      "execution_count": null,
      "outputs": [
        {
          "output_type": "execute_result",
          "data": {
            "text/plain": [
              "         utc  nitrogendioxide_tropospheric_column  \\\n",
              "1 2020-05-02                             0.000037   \n",
              "2 2020-05-03                             0.000041   \n",
              "3 2020-05-04                             0.000055   \n",
              "4 2020-05-05                             0.000028   \n",
              "5 2020-05-06                             0.000038   \n",
              "\n",
              "   nitrogendioxide_tropospheric_column_precision  \\\n",
              "1                                       0.000017   \n",
              "2                                       0.000021   \n",
              "3                                       0.000029   \n",
              "4                                       0.000016   \n",
              "5                                       0.000015   \n",
              "\n",
              "   nitrogendioxide_tropospheric_column_precision_kernel  \\\n",
              "1                                           0.000015      \n",
              "2                                           0.000020      \n",
              "3                                           0.000027      \n",
              "4                                           0.000015      \n",
              "5                                           0.000013      \n",
              "\n",
              "   air_mass_factor_troposphere  air_mass_factor_total  pm10_lagged       pm10  \n",
              "1                     1.116818               1.851356     6.261500   7.395500  \n",
              "2                     0.819890               1.837840     7.395500  10.091111  \n",
              "3                     0.937185               1.422979    10.091111  15.311250  \n",
              "4                     1.289110               2.089066    15.311250  10.266667  \n",
              "5                     1.126148               2.157804    10.266667   7.549048  "
            ],
            "text/html": [
              "\n",
              "  <div id=\"df-7cc19187-1f01-4a35-8420-c13c2c0e3337\">\n",
              "    <div class=\"colab-df-container\">\n",
              "      <div>\n",
              "<style scoped>\n",
              "    .dataframe tbody tr th:only-of-type {\n",
              "        vertical-align: middle;\n",
              "    }\n",
              "\n",
              "    .dataframe tbody tr th {\n",
              "        vertical-align: top;\n",
              "    }\n",
              "\n",
              "    .dataframe thead th {\n",
              "        text-align: right;\n",
              "    }\n",
              "</style>\n",
              "<table border=\"1\" class=\"dataframe\">\n",
              "  <thead>\n",
              "    <tr style=\"text-align: right;\">\n",
              "      <th></th>\n",
              "      <th>utc</th>\n",
              "      <th>nitrogendioxide_tropospheric_column</th>\n",
              "      <th>nitrogendioxide_tropospheric_column_precision</th>\n",
              "      <th>nitrogendioxide_tropospheric_column_precision_kernel</th>\n",
              "      <th>air_mass_factor_troposphere</th>\n",
              "      <th>air_mass_factor_total</th>\n",
              "      <th>pm10_lagged</th>\n",
              "      <th>pm10</th>\n",
              "    </tr>\n",
              "  </thead>\n",
              "  <tbody>\n",
              "    <tr>\n",
              "      <th>1</th>\n",
              "      <td>2020-05-02</td>\n",
              "      <td>0.000037</td>\n",
              "      <td>0.000017</td>\n",
              "      <td>0.000015</td>\n",
              "      <td>1.116818</td>\n",
              "      <td>1.851356</td>\n",
              "      <td>6.261500</td>\n",
              "      <td>7.395500</td>\n",
              "    </tr>\n",
              "    <tr>\n",
              "      <th>2</th>\n",
              "      <td>2020-05-03</td>\n",
              "      <td>0.000041</td>\n",
              "      <td>0.000021</td>\n",
              "      <td>0.000020</td>\n",
              "      <td>0.819890</td>\n",
              "      <td>1.837840</td>\n",
              "      <td>7.395500</td>\n",
              "      <td>10.091111</td>\n",
              "    </tr>\n",
              "    <tr>\n",
              "      <th>3</th>\n",
              "      <td>2020-05-04</td>\n",
              "      <td>0.000055</td>\n",
              "      <td>0.000029</td>\n",
              "      <td>0.000027</td>\n",
              "      <td>0.937185</td>\n",
              "      <td>1.422979</td>\n",
              "      <td>10.091111</td>\n",
              "      <td>15.311250</td>\n",
              "    </tr>\n",
              "    <tr>\n",
              "      <th>4</th>\n",
              "      <td>2020-05-05</td>\n",
              "      <td>0.000028</td>\n",
              "      <td>0.000016</td>\n",
              "      <td>0.000015</td>\n",
              "      <td>1.289110</td>\n",
              "      <td>2.089066</td>\n",
              "      <td>15.311250</td>\n",
              "      <td>10.266667</td>\n",
              "    </tr>\n",
              "    <tr>\n",
              "      <th>5</th>\n",
              "      <td>2020-05-06</td>\n",
              "      <td>0.000038</td>\n",
              "      <td>0.000015</td>\n",
              "      <td>0.000013</td>\n",
              "      <td>1.126148</td>\n",
              "      <td>2.157804</td>\n",
              "      <td>10.266667</td>\n",
              "      <td>7.549048</td>\n",
              "    </tr>\n",
              "  </tbody>\n",
              "</table>\n",
              "</div>\n",
              "      <button class=\"colab-df-convert\" onclick=\"convertToInteractive('df-7cc19187-1f01-4a35-8420-c13c2c0e3337')\"\n",
              "              title=\"Convert this dataframe to an interactive table.\"\n",
              "              style=\"display:none;\">\n",
              "        \n",
              "  <svg xmlns=\"http://www.w3.org/2000/svg\" height=\"24px\"viewBox=\"0 0 24 24\"\n",
              "       width=\"24px\">\n",
              "    <path d=\"M0 0h24v24H0V0z\" fill=\"none\"/>\n",
              "    <path d=\"M18.56 5.44l.94 2.06.94-2.06 2.06-.94-2.06-.94-.94-2.06-.94 2.06-2.06.94zm-11 1L8.5 8.5l.94-2.06 2.06-.94-2.06-.94L8.5 2.5l-.94 2.06-2.06.94zm10 10l.94 2.06.94-2.06 2.06-.94-2.06-.94-.94-2.06-.94 2.06-2.06.94z\"/><path d=\"M17.41 7.96l-1.37-1.37c-.4-.4-.92-.59-1.43-.59-.52 0-1.04.2-1.43.59L10.3 9.45l-7.72 7.72c-.78.78-.78 2.05 0 2.83L4 21.41c.39.39.9.59 1.41.59.51 0 1.02-.2 1.41-.59l7.78-7.78 2.81-2.81c.8-.78.8-2.07 0-2.86zM5.41 20L4 18.59l7.72-7.72 1.47 1.35L5.41 20z\"/>\n",
              "  </svg>\n",
              "      </button>\n",
              "      \n",
              "  <style>\n",
              "    .colab-df-container {\n",
              "      display:flex;\n",
              "      flex-wrap:wrap;\n",
              "      gap: 12px;\n",
              "    }\n",
              "\n",
              "    .colab-df-convert {\n",
              "      background-color: #E8F0FE;\n",
              "      border: none;\n",
              "      border-radius: 50%;\n",
              "      cursor: pointer;\n",
              "      display: none;\n",
              "      fill: #1967D2;\n",
              "      height: 32px;\n",
              "      padding: 0 0 0 0;\n",
              "      width: 32px;\n",
              "    }\n",
              "\n",
              "    .colab-df-convert:hover {\n",
              "      background-color: #E2EBFA;\n",
              "      box-shadow: 0px 1px 2px rgba(60, 64, 67, 0.3), 0px 1px 3px 1px rgba(60, 64, 67, 0.15);\n",
              "      fill: #174EA6;\n",
              "    }\n",
              "\n",
              "    [theme=dark] .colab-df-convert {\n",
              "      background-color: #3B4455;\n",
              "      fill: #D2E3FC;\n",
              "    }\n",
              "\n",
              "    [theme=dark] .colab-df-convert:hover {\n",
              "      background-color: #434B5C;\n",
              "      box-shadow: 0px 1px 3px 1px rgba(0, 0, 0, 0.15);\n",
              "      filter: drop-shadow(0px 1px 2px rgba(0, 0, 0, 0.3));\n",
              "      fill: #FFFFFF;\n",
              "    }\n",
              "  </style>\n",
              "\n",
              "      <script>\n",
              "        const buttonEl =\n",
              "          document.querySelector('#df-7cc19187-1f01-4a35-8420-c13c2c0e3337 button.colab-df-convert');\n",
              "        buttonEl.style.display =\n",
              "          google.colab.kernel.accessAllowed ? 'block' : 'none';\n",
              "\n",
              "        async function convertToInteractive(key) {\n",
              "          const element = document.querySelector('#df-7cc19187-1f01-4a35-8420-c13c2c0e3337');\n",
              "          const dataTable =\n",
              "            await google.colab.kernel.invokeFunction('convertToInteractive',\n",
              "                                                     [key], {});\n",
              "          if (!dataTable) return;\n",
              "\n",
              "          const docLinkHtml = 'Like what you see? Visit the ' +\n",
              "            '<a target=\"_blank\" href=https://colab.research.google.com/notebooks/data_table.ipynb>data table notebook</a>'\n",
              "            + ' to learn more about interactive tables.';\n",
              "          element.innerHTML = '';\n",
              "          dataTable['output_type'] = 'display_data';\n",
              "          await google.colab.output.renderOutput(dataTable, element);\n",
              "          const docLink = document.createElement('div');\n",
              "          docLink.innerHTML = docLinkHtml;\n",
              "          element.appendChild(docLink);\n",
              "        }\n",
              "      </script>\n",
              "    </div>\n",
              "  </div>\n",
              "  "
            ]
          },
          "metadata": {},
          "execution_count": 220
        }
      ]
    },
    {
      "cell_type": "code",
      "source": [],
      "metadata": {
        "id": "wKmaYCpKMmZm"
      },
      "execution_count": null,
      "outputs": []
    },
    {
      "cell_type": "markdown",
      "source": [
        "##**XGboost Model**\n",
        "\n",
        "**Reference:**\n",
        "\n",
        "The model scrip was adopted from the following webpage: \n",
        "\n",
        "https://www.kaggle.com/code/robikscube/tutorial-time-series-forecasting-with-xgboost\n",
        "\n",
        "\n",
        "https://www.kaggle.com/code/tilii7/hyperparameter-grid-search-with-xgboost"
      ],
      "metadata": {
        "id": "xsFevraiMnTD"
      }
    },
    {
      "cell_type": "code",
      "source": [
        "#split date before after certain date \n",
        "split_date = '2022-01-01'\n",
        "pm_train = data_LSTM_test.loc[data_LSTM_test['utc'] <= split_date].copy()\n",
        "pm_test = data_LSTM_test.loc[data_LSTM_test['utc'] > split_date].copy()"
      ],
      "metadata": {
        "id": "Pb_Aunkdyo8T"
      },
      "execution_count": null,
      "outputs": []
    },
    {
      "cell_type": "code",
      "source": [
        "pm_test_l = pd.DataFrame(pm_test.iloc[:,-1]) #target\n",
        "pm_train_l = pd.DataFrame(pm_train.iloc[:,-1])"
      ],
      "metadata": {
        "id": "cUOYHzET2cEq"
      },
      "execution_count": null,
      "outputs": []
    },
    {
      "cell_type": "code",
      "source": [
        "_ = pm_test_l \\\n",
        "    .rename(columns={'pm10': 'TEST SET'}) \\\n",
        "    .join(pm_train_l.rename(columns={'pm10': 'TRAINING SET'}), how='outer') \\\n",
        "    .plot(figsize=(15,5), title='PM', style='.')"
      ],
      "metadata": {
        "colab": {
          "base_uri": "https://localhost:8080/",
          "height": 336
        },
        "id": "FQTAG3Td0tSh",
        "outputId": "894e93a3-1ccd-4a2e-97a3-896254e4ee53"
      },
      "execution_count": null,
      "outputs": [
        {
          "output_type": "display_data",
          "data": {
            "text/plain": [
              "<Figure size 1080x360 with 1 Axes>"
            ],
            "image/png": "[encoded data removed]"
          },
          "metadata": {
            "needs_background": "light"
          }
        }
      ]
    },
    {
      "cell_type": "code",
      "source": [
        "#https://www.kaggle.com/code/tilii7/hyperparameter-grid-search-with-xgboost\n",
        "def create_features(df):\n",
        "    \"\"\"\n",
        "    Creates time series features from datetime index\n",
        "    \"\"\"\n",
        "    df['date'] = df['utc']\n",
        "    df['hour'] = df['date'].dt.hour\n",
        "    df['dayofweek'] = df['date'].dt.dayofweek\n",
        "    df['quarter'] = df['date'].dt.quarter\n",
        "    df['month'] = df['date'].dt.month\n",
        "    df['year'] = df['date'].dt.year\n",
        "    df['dayofyear'] = df['date'].dt.dayofyear\n",
        "    df['dayofmonth'] = df['date'].dt.day\n",
        "    df['weekofyear'] = df['date'].dt.weekofyear\n",
        "    df = df.drop(columns=['pm10'])\n",
        "    df = df.drop(columns=['utc'])\n",
        "    df = df.drop(columns=['date'])\n",
        "    return df"
      ],
      "metadata": {
        "id": "AQ1xczt8036g"
      },
      "execution_count": null,
      "outputs": []
    },
    {
      "cell_type": "code",
      "source": [
        "X_train = create_features(pm_train)\n",
        "y_train = pd.DataFrame(pm_train['pm10'])\n",
        "X_test= create_features(pm_test)\n",
        "y_test = pd.DataFrame(pm_test['pm10'])"
      ],
      "metadata": {
        "id": "EtmnLRwJ33tR"
      },
      "execution_count": null,
      "outputs": []
    },
    {
      "cell_type": "code",
      "source": [
        "#define parameters for grid search\n",
        "\n",
        "params = {\n",
        "        'min_child_weight': [100, 200, 300, 350],\n",
        "        'gamma': [0.5, 1, 1.5, 2, 5],\n",
        "        'subsample': [0.6, 0.8, 1.0],\n",
        "        'colsample_bytree': [0.6, 0.8, 1.0],\n",
        "        'max_depth': [4, 5, 8, 7]\n",
        "        }"
      ],
      "metadata": {
        "id": "Nu7Ry4-U_JZN"
      },
      "execution_count": null,
      "outputs": []
    },
    {
      "cell_type": "code",
      "source": [
        "#define timer as we are curious about it, as it is an ensemble method, hence time is importnat \n",
        "\n",
        "def timer(start_time=None):\n",
        "    if not start_time:\n",
        "        start_time = datetime.now()\n",
        "        return start_time\n",
        "    elif start_time:\n",
        "        thour, temp_sec = divmod((datetime.now() - start_time).total_seconds(), 3600)\n",
        "        tmin, tsec = divmod(temp_sec, 60)\n",
        "        print('\\n Time taken: %i hours %i minutes and %s seconds.' % (thour, tmin, round(tsec, 2)))"
      ],
      "metadata": {
        "id": "dV8LhBrX_oZA"
      },
      "execution_count": null,
      "outputs": []
    },
    {
      "cell_type": "code",
      "source": [
        "random_search = RandomizedSearchCV(xgb, param_distributions=params, n_iter=param_comb, n_jobs=4, cv=skf.split(X_train, y_train), verbose=3, random_state=1001 ) #StratifiedKFold\n",
        "\n",
        "start_time = timer(None) # timing starts from this point for \"start_time\" variable\n",
        "print(random_search.fit(X_train, y_train))\n",
        "timer(start_time) # timing ends here f"
      ],
      "metadata": {
        "id": "rt1HgL6R-s0x"
      },
      "execution_count": null,
      "outputs": []
    },
    {
      "cell_type": "code",
      "source": [
        "model1= XGBRegressor(objective='reg:squarederror', n_estimators=500, max_depth=10, eta=0.5, subsample=1, colsample_bytree=0.8) #model architecture"
      ],
      "metadata": {
        "id": "C0rafY0HYo5M"
      },
      "execution_count": null,
      "outputs": []
    },
    {
      "cell_type": "code",
      "source": [
        "#Tain folds, train the model \n",
        "\n",
        "cv = TimeSeriesSplit(n_splits=10)\n",
        "# evaluate model\n",
        "scores = cross_val_score(model1, X_train, y_train, scoring='neg_mean_absolute_error', cv=cv, n_jobs=-1)\n",
        "# force scores to be positive\n",
        "scores1 = absolute(scores)\n",
        "scores2 = square(scores)\n",
        "print('Mean MAE: %.3f (%.3f)' % (scores1.mean(), scores1.std()) )\n",
        "print('Mean MSE: %.3f (%.3f)' % (scores2.mean(), scores2.std()) )\n",
        "\n",
        "#model1.fit(X_train, y_train)\n",
        "\n",
        "model1.fit(X_train, y_train, \n",
        "            eval_set=[(X_train, y_train), (X_test, y_test)], \n",
        "            early_stopping_rounds=50, eval_metric='mae')\n",
        "\n",
        "results = model1.evals_result()\n",
        "# plot history\n",
        "plt.figure(figsize=(15, 10))\n",
        "pyplot.plot(results['validation_0']['mae'], label='train')\n",
        "pyplot.plot(results['validation_1']['mae'], label='test')\n",
        "# show the legend\n",
        "pyplot.legend()\n",
        "# show the plot\n",
        "pyplot.show()"
      ],
      "metadata": {
        "colab": {
          "base_uri": "https://localhost:8080/",
          "height": 1000
        },
        "id": "m4IgSylXXBkL",
        "outputId": "994798ff-2be0-4568-b650-ab6b85ad4769"
      },
      "execution_count": null,
      "outputs": [
        {
          "output_type": "stream",
          "name": "stdout",
          "text": [
            "Mean MAE: 3.388 (0.458)\n",
            "Mean MSE: 11.691 (3.340)\n",
            "[0]\tvalidation_0-mae:11.6388\tvalidation_1-mae:11.2892\n",
            "Multiple eval metrics have been passed: 'validation_1-mae' will be used for early stopping.\n",
            "\n",
            "Will train until validation_1-mae hasn't improved in 50 rounds.\n",
            "[1]\tvalidation_0-mae:10.4864\tvalidation_1-mae:10.1611\n",
            "[2]\tvalidation_0-mae:9.45923\tvalidation_1-mae:9.13312\n",
            "[3]\tvalidation_0-mae:8.53\tvalidation_1-mae:8.21597\n",
            "[4]\tvalidation_0-mae:7.70674\tvalidation_1-mae:7.40371\n",
            "[5]\tvalidation_0-mae:6.99369\tvalidation_1-mae:6.71971\n",
            "[6]\tvalidation_0-mae:6.34113\tvalidation_1-mae:6.14598\n",
            "[7]\tvalidation_0-mae:5.75844\tvalidation_1-mae:5.60071\n",
            "[8]\tvalidation_0-mae:5.24007\tvalidation_1-mae:5.12591\n",
            "[9]\tvalidation_0-mae:4.7596\tvalidation_1-mae:4.72335\n",
            "[10]\tvalidation_0-mae:4.34608\tvalidation_1-mae:4.43505\n",
            "[11]\tvalidation_0-mae:3.96417\tvalidation_1-mae:4.19188\n",
            "[12]\tvalidation_0-mae:3.61917\tvalidation_1-mae:3.96468\n",
            "[13]\tvalidation_0-mae:3.31535\tvalidation_1-mae:3.77835\n",
            "[14]\tvalidation_0-mae:3.0457\tvalidation_1-mae:3.64288\n",
            "[15]\tvalidation_0-mae:2.78813\tvalidation_1-mae:3.51606\n",
            "[16]\tvalidation_0-mae:2.55893\tvalidation_1-mae:3.40594\n",
            "[17]\tvalidation_0-mae:2.35535\tvalidation_1-mae:3.32347\n",
            "[18]\tvalidation_0-mae:2.17521\tvalidation_1-mae:3.25639\n",
            "[19]\tvalidation_0-mae:1.99979\tvalidation_1-mae:3.18284\n",
            "[20]\tvalidation_0-mae:1.84683\tvalidation_1-mae:3.13082\n",
            "[21]\tvalidation_0-mae:1.72176\tvalidation_1-mae:3.07739\n",
            "[22]\tvalidation_0-mae:1.60121\tvalidation_1-mae:3.03883\n",
            "[23]\tvalidation_0-mae:1.48254\tvalidation_1-mae:3.01106\n",
            "[24]\tvalidation_0-mae:1.36593\tvalidation_1-mae:2.97957\n",
            "[25]\tvalidation_0-mae:1.26493\tvalidation_1-mae:2.95076\n",
            "[26]\tvalidation_0-mae:1.18065\tvalidation_1-mae:2.93912\n",
            "[27]\tvalidation_0-mae:1.11142\tvalidation_1-mae:2.91558\n",
            "[28]\tvalidation_0-mae:1.04283\tvalidation_1-mae:2.90287\n",
            "[29]\tvalidation_0-mae:0.971639\tvalidation_1-mae:2.88282\n",
            "[30]\tvalidation_0-mae:0.916301\tvalidation_1-mae:2.87147\n",
            "[31]\tvalidation_0-mae:0.850288\tvalidation_1-mae:2.86435\n",
            "[32]\tvalidation_0-mae:0.799161\tvalidation_1-mae:2.86208\n",
            "[33]\tvalidation_0-mae:0.762759\tvalidation_1-mae:2.86219\n",
            "[34]\tvalidation_0-mae:0.713665\tvalidation_1-mae:2.85453\n",
            "[35]\tvalidation_0-mae:0.680978\tvalidation_1-mae:2.84855\n",
            "[36]\tvalidation_0-mae:0.652697\tvalidation_1-mae:2.84554\n",
            "[37]\tvalidation_0-mae:0.62464\tvalidation_1-mae:2.84628\n",
            "[38]\tvalidation_0-mae:0.602322\tvalidation_1-mae:2.84223\n",
            "[39]\tvalidation_0-mae:0.574276\tvalidation_1-mae:2.83833\n",
            "[40]\tvalidation_0-mae:0.549348\tvalidation_1-mae:2.83259\n",
            "[41]\tvalidation_0-mae:0.525458\tvalidation_1-mae:2.83116\n",
            "[42]\tvalidation_0-mae:0.505085\tvalidation_1-mae:2.82498\n",
            "[43]\tvalidation_0-mae:0.485704\tvalidation_1-mae:2.8273\n",
            "[44]\tvalidation_0-mae:0.461693\tvalidation_1-mae:2.82807\n",
            "[45]\tvalidation_0-mae:0.450406\tvalidation_1-mae:2.8264\n",
            "[46]\tvalidation_0-mae:0.429841\tvalidation_1-mae:2.82733\n",
            "[47]\tvalidation_0-mae:0.419837\tvalidation_1-mae:2.82774\n",
            "[48]\tvalidation_0-mae:0.400455\tvalidation_1-mae:2.829\n",
            "[49]\tvalidation_0-mae:0.382258\tvalidation_1-mae:2.82818\n",
            "[50]\tvalidation_0-mae:0.375009\tvalidation_1-mae:2.82878\n",
            "[51]\tvalidation_0-mae:0.367567\tvalidation_1-mae:2.82869\n",
            "[52]\tvalidation_0-mae:0.359843\tvalidation_1-mae:2.82885\n",
            "[53]\tvalidation_0-mae:0.352525\tvalidation_1-mae:2.82863\n",
            "[54]\tvalidation_0-mae:0.345819\tvalidation_1-mae:2.82782\n",
            "[55]\tvalidation_0-mae:0.325962\tvalidation_1-mae:2.82523\n",
            "[56]\tvalidation_0-mae:0.305768\tvalidation_1-mae:2.82077\n",
            "[57]\tvalidation_0-mae:0.297438\tvalidation_1-mae:2.81941\n",
            "[58]\tvalidation_0-mae:0.28084\tvalidation_1-mae:2.81685\n",
            "[59]\tvalidation_0-mae:0.265098\tvalidation_1-mae:2.81455\n",
            "[60]\tvalidation_0-mae:0.260366\tvalidation_1-mae:2.8147\n",
            "[61]\tvalidation_0-mae:0.245121\tvalidation_1-mae:2.81275\n",
            "[62]\tvalidation_0-mae:0.231354\tvalidation_1-mae:2.80768\n",
            "[63]\tvalidation_0-mae:0.218975\tvalidation_1-mae:2.80694\n",
            "[64]\tvalidation_0-mae:0.208273\tvalidation_1-mae:2.80805\n",
            "[65]\tvalidation_0-mae:0.19576\tvalidation_1-mae:2.80432\n",
            "[66]\tvalidation_0-mae:0.18907\tvalidation_1-mae:2.80207\n",
            "[67]\tvalidation_0-mae:0.178499\tvalidation_1-mae:2.80263\n",
            "[68]\tvalidation_0-mae:0.169892\tvalidation_1-mae:2.80376\n",
            "[69]\tvalidation_0-mae:0.163967\tvalidation_1-mae:2.80413\n",
            "[70]\tvalidation_0-mae:0.156914\tvalidation_1-mae:2.80409\n",
            "[71]\tvalidation_0-mae:0.148622\tvalidation_1-mae:2.80491\n",
            "[72]\tvalidation_0-mae:0.143234\tvalidation_1-mae:2.80417\n",
            "[73]\tvalidation_0-mae:0.140021\tvalidation_1-mae:2.80499\n",
            "[74]\tvalidation_0-mae:0.135325\tvalidation_1-mae:2.80448\n",
            "[75]\tvalidation_0-mae:0.130687\tvalidation_1-mae:2.80412\n",
            "[76]\tvalidation_0-mae:0.12561\tvalidation_1-mae:2.80422\n",
            "[77]\tvalidation_0-mae:0.121577\tvalidation_1-mae:2.80411\n",
            "[78]\tvalidation_0-mae:0.11759\tvalidation_1-mae:2.80277\n",
            "[79]\tvalidation_0-mae:0.113468\tvalidation_1-mae:2.80306\n",
            "[80]\tvalidation_0-mae:0.111925\tvalidation_1-mae:2.80292\n",
            "[81]\tvalidation_0-mae:0.110326\tvalidation_1-mae:2.80295\n",
            "[82]\tvalidation_0-mae:0.106839\tvalidation_1-mae:2.80325\n",
            "[83]\tvalidation_0-mae:0.103036\tvalidation_1-mae:2.80402\n",
            "[84]\tvalidation_0-mae:0.101291\tvalidation_1-mae:2.80398\n",
            "[85]\tvalidation_0-mae:0.097996\tvalidation_1-mae:2.80434\n",
            "[86]\tvalidation_0-mae:0.093951\tvalidation_1-mae:2.80474\n",
            "[87]\tvalidation_0-mae:0.09127\tvalidation_1-mae:2.80522\n",
            "[88]\tvalidation_0-mae:0.088873\tvalidation_1-mae:2.8052\n",
            "[89]\tvalidation_0-mae:0.085203\tvalidation_1-mae:2.80539\n",
            "[90]\tvalidation_0-mae:0.081344\tvalidation_1-mae:2.80481\n",
            "[91]\tvalidation_0-mae:0.077393\tvalidation_1-mae:2.80461\n",
            "[92]\tvalidation_0-mae:0.073675\tvalidation_1-mae:2.80479\n",
            "[93]\tvalidation_0-mae:0.072719\tvalidation_1-mae:2.80493\n",
            "[94]\tvalidation_0-mae:0.069714\tvalidation_1-mae:2.8051\n",
            "[95]\tvalidation_0-mae:0.066802\tvalidation_1-mae:2.80562\n",
            "[96]\tvalidation_0-mae:0.064415\tvalidation_1-mae:2.80561\n",
            "[97]\tvalidation_0-mae:0.061825\tvalidation_1-mae:2.80492\n",
            "[98]\tvalidation_0-mae:0.060787\tvalidation_1-mae:2.80532\n",
            "[99]\tvalidation_0-mae:0.058211\tvalidation_1-mae:2.80564\n",
            "[100]\tvalidation_0-mae:0.056043\tvalidation_1-mae:2.80575\n",
            "[101]\tvalidation_0-mae:0.053857\tvalidation_1-mae:2.80497\n",
            "[102]\tvalidation_0-mae:0.052986\tvalidation_1-mae:2.80516\n",
            "[103]\tvalidation_0-mae:0.05134\tvalidation_1-mae:2.80531\n",
            "[104]\tvalidation_0-mae:0.049265\tvalidation_1-mae:2.80557\n",
            "[105]\tvalidation_0-mae:0.047008\tvalidation_1-mae:2.80569\n",
            "[106]\tvalidation_0-mae:0.046257\tvalidation_1-mae:2.80604\n",
            "[107]\tvalidation_0-mae:0.044507\tvalidation_1-mae:2.8055\n",
            "[108]\tvalidation_0-mae:0.043091\tvalidation_1-mae:2.80513\n",
            "[109]\tvalidation_0-mae:0.041387\tvalidation_1-mae:2.80538\n",
            "[110]\tvalidation_0-mae:0.039816\tvalidation_1-mae:2.80552\n",
            "[111]\tvalidation_0-mae:0.038557\tvalidation_1-mae:2.80546\n",
            "[112]\tvalidation_0-mae:0.036939\tvalidation_1-mae:2.80615\n",
            "[113]\tvalidation_0-mae:0.036427\tvalidation_1-mae:2.80614\n",
            "[114]\tvalidation_0-mae:0.034979\tvalidation_1-mae:2.80635\n",
            "[115]\tvalidation_0-mae:0.03436\tvalidation_1-mae:2.80628\n",
            "[116]\tvalidation_0-mae:0.033526\tvalidation_1-mae:2.80625\n",
            "Stopping. Best iteration:\n",
            "[66]\tvalidation_0-mae:0.18907\tvalidation_1-mae:2.80207\n",
            "\n"
          ]
        },
        {
          "output_type": "display_data",
          "data": {
            "text/plain": [
              "<Figure size 1080x720 with 1 Axes>"
            ],
            "image/png": "[encoded data removed]"
          },
          "metadata": {
            "needs_background": "light"
          }
        }
      ]
    },
    {
      "cell_type": "code",
      "source": [
        "y_test['pred1'] = model1.predict(X_test)"
      ],
      "metadata": {
        "id": "6h-bBSOlYuNI"
      },
      "execution_count": null,
      "outputs": []
    },
    {
      "cell_type": "code",
      "source": [
        "plt.figure(figsize=(15, 10))\n",
        "\n",
        "pyplot.plot(y_test['pred1'], label='predict', color = 'blue')\n",
        "pyplot.plot(y_test['pm10'], label='true', color = 'pink')\n",
        "pyplot.legend()\n",
        "\n",
        "pyplot.show()"
      ],
      "metadata": {
        "colab": {
          "base_uri": "https://localhost:8080/",
          "height": 592
        },
        "id": "q8Id25htaQQd",
        "outputId": "07fe2757-b9d2-401a-98da-b02f2d95a3a3"
      },
      "execution_count": null,
      "outputs": [
        {
          "output_type": "display_data",
          "data": {
            "text/plain": [
              "<Figure size 1080x720 with 1 Axes>"
            ],
            "image/png": "[encoded data removed]"
          },
          "metadata": {
            "needs_background": "light"
          }
        }
      ]
    },
    {
      "cell_type": "code",
      "source": [
        "_ = plot_importance(model1, height=0.9)"
      ],
      "metadata": {
        "colab": {
          "base_uri": "https://localhost:8080/",
          "height": 296
        },
        "id": "x5sbmq-eIdEG",
        "outputId": "d076560c-cdad-4e6a-a9af-a02a601e0c3a"
      },
      "execution_count": null,
      "outputs": [
        {
          "output_type": "display_data",
          "data": {
            "text/plain": [
              "<Figure size 432x288 with 1 Axes>"
            ],
            "image/png": "[encoded data removed]"
          },
          "metadata": {
            "needs_background": "light"
          }
        }
      ]
    }
  ]
}