{
  "nbformat": 4,
  "nbformat_minor": 0,
  "metadata": {
    "colab": {
      "provenance": []
    },
    "kernelspec": {
      "name": "python3",
      "display_name": "Python 3"
    },
    "language_info": {
      "name": "python"
    }
  },
  "cells": [
    {
      "cell_type": "markdown",
      "source": [
        "#*Chapter 4.1.1 LSTM MULTIVARIATE TIME SERIES Baseline Model*\n",
        "\n",
        "#**Chapter 4.1.1**\n",
        "\n",
        "\n",
        "\n"
      ],
      "metadata": {
        "id": "1kBoCD9HN8zP"
      }
    },
    {
      "cell_type": "code",
      "execution_count": null,
      "metadata": {
        "id": "DUHE9QaMqijZ",
        "colab": {
          "base_uri": "https://localhost:8080/"
        },
        "outputId": "ddbbea58-20da-4ffa-912d-556b759d6900"
      },
      "outputs": [
        {
          "output_type": "stream",
          "name": "stdout",
          "text": [
            "Mounted at /content/gdrive\n"
          ]
        }
      ],
      "source": [
        "#google colab access\n",
        "from google.colab import drive\n",
        "drive.mount('/content/gdrive')"
      ]
    },
    {
      "cell_type": "code",
      "source": [
        "# Import librries \n",
        "import pandas as pd\n",
        "from pandas import DataFrame\n",
        "from pandas import concat\n",
        "from sklearn.preprocessing import LabelEncoder\n",
        "from sklearn.preprocessing import MinMaxScaler\n",
        "import glob #for maps\n",
        "import plotly.graph_objects as go\n",
        "import plotly.offline\n",
        "import matplotlib.pyplot as plt\n",
        "from datetime import datetime\n",
        "import warnings\n",
        "import itertools\n",
        "import numpy as np\n",
        "from statsmodels.tsa.stattools import adfuller\n",
        "from sklearn.metrics import mean_squared_error, r2_score, mean_absolute_error\n",
        "from math import sqrt\n",
        "warnings.filterwarnings(\"ignore\")\n",
        "import plotly.express as px\n",
        "import seaborn as sns\n",
        "import pandas as pd\n",
        "import plotly.graph_objects as go\n",
        "import matplotlib.pyplot as plt\n",
        "%matplotlib inline\n",
        "\n",
        "#model NN\n",
        "from sklearn.model_selection import train_test_split\n",
        "from tensorflow.keras.layers import Dense, Dropout, LSTM\n",
        "import keras.models\n",
        "import tensorflow\n",
        "from keras.models import Sequential\n",
        "from tensorflow.keras.layers import LSTM\n",
        "from tensorflow.keras.layers import Dense"
      ],
      "metadata": {
        "id": "4nbPpPJXkdNx"
      },
      "execution_count": null,
      "outputs": []
    },
    {
      "cell_type": "markdown",
      "source": [
        "##**Data Reading and Additional Processing**"
      ],
      "metadata": {
        "id": "RtOSEQoU83IN"
      }
    },
    {
      "cell_type": "code",
      "source": [
        "fin_data = pd.read_csv('/content/gdrive/MyDrive/Sent/final_data_May20_Sept22.csv')"
      ],
      "metadata": {
        "id": "siGu1whKC45b"
      },
      "execution_count": null,
      "outputs": []
    },
    {
      "cell_type": "code",
      "source": [
        "fin_data.head(5)"
      ],
      "metadata": {
        "colab": {
          "base_uri": "https://localhost:8080/",
          "height": 260
        },
        "id": "fsbrS4xSDhto",
        "outputId": "63a6f44b-f353-4755-e81b-e19780e3e739"
      },
      "execution_count": null,
      "outputs": [
        {
          "output_type": "execute_result",
          "data": {
            "text/plain": [
              "    latitude  longitute    Year  Month  Day  Hour  \\\n",
              "0  52.157350  13.716069  2020.0    5.0  1.0  11.0   \n",
              "1  52.192528  13.806399  2020.0    5.0  1.0  11.0   \n",
              "2  52.227226  13.895948  2020.0    5.0  1.0  11.0   \n",
              "3  52.167213  13.589217  2020.0    5.0  1.0  11.0   \n",
              "4  52.202910  13.680410  2020.0    5.0  1.0  11.0   \n",
              "\n",
              "   nitrogendioxide_tropospheric_column  \\\n",
              "0                         1.459978e-05   \n",
              "1                        -6.227974e-06   \n",
              "2                         5.757178e-07   \n",
              "3                         1.580315e-05   \n",
              "4                         1.687531e-05   \n",
              "\n",
              "   nitrogendioxide_tropospheric_column_precision  \\\n",
              "0                                       0.000018   \n",
              "1                                       0.000014   \n",
              "2                                       0.000013   \n",
              "3                                       0.000011   \n",
              "4                                       0.000016   \n",
              "\n",
              "   nitrogendioxide_tropospheric_column_precision_kernel  \\\n",
              "0                                           0.000017      \n",
              "1                                           0.000014      \n",
              "2                                           0.000013      \n",
              "3                                           0.000011      \n",
              "4                                           0.000015      \n",
              "\n",
              "   air_mass_factor_troposphere  air_mass_factor_total  \\\n",
              "0                     0.952377               1.804340   \n",
              "1                     0.951523               1.798625   \n",
              "2                     0.918600               1.780306   \n",
              "3                     1.077755               1.861350   \n",
              "4                     1.005521               1.828623   \n",
              "\n",
              "   tm5_tropopause_layer_index  qa_value         utc                 date  \\\n",
              "0                        14.0    0.0074  2020-05-01  2020-05-01 11:00:00   \n",
              "1                        14.0    0.0074  2020-05-01  2020-05-01 11:00:00   \n",
              "2                        14.0    0.0074  2020-05-01  2020-05-01 11:00:00   \n",
              "3                        14.0    0.0074  2020-05-01  2020-05-01 11:00:00   \n",
              "4                        14.0    0.0074  2020-05-01  2020-05-01 11:00:00   \n",
              "\n",
              "     pm10       pm25  \n",
              "0  6.2615  11.934496  \n",
              "1  6.2615  11.934496  \n",
              "2  6.2615  11.934496  \n",
              "3  6.2615  11.934496  \n",
              "4  6.2615  11.934496  "
            ],
            "text/html": [
              "\n",
              "  <div id=\"df-bfaaf46c-88e4-4c70-9dc9-5363f3242a8c\">\n",
              "    <div class=\"colab-df-container\">\n",
              "      <div>\n",
              "<style scoped>\n",
              "    .dataframe tbody tr th:only-of-type {\n",
              "        vertical-align: middle;\n",
              "    }\n",
              "\n",
              "    .dataframe tbody tr th {\n",
              "        vertical-align: top;\n",
              "    }\n",
              "\n",
              "    .dataframe thead th {\n",
              "        text-align: right;\n",
              "    }\n",
              "</style>\n",
              "<table border=\"1\" class=\"dataframe\">\n",
              "  <thead>\n",
              "    <tr style=\"text-align: right;\">\n",
              "      <th></th>\n",
              "      <th>latitude</th>\n",
              "      <th>longitute</th>\n",
              "      <th>Year</th>\n",
              "      <th>Month</th>\n",
              "      <th>Day</th>\n",
              "      <th>Hour</th>\n",
              "      <th>nitrogendioxide_tropospheric_column</th>\n",
              "      <th>nitrogendioxide_tropospheric_column_precision</th>\n",
              "      <th>nitrogendioxide_tropospheric_column_precision_kernel</th>\n",
              "      <th>air_mass_factor_troposphere</th>\n",
              "      <th>air_mass_factor_total</th>\n",
              "      <th>tm5_tropopause_layer_index</th>\n",
              "      <th>qa_value</th>\n",
              "      <th>utc</th>\n",
              "      <th>date</th>\n",
              "      <th>pm10</th>\n",
              "      <th>pm25</th>\n",
              "    </tr>\n",
              "  </thead>\n",
              "  <tbody>\n",
              "    <tr>\n",
              "      <th>0</th>\n",
              "      <td>52.157350</td>\n",
              "      <td>13.716069</td>\n",
              "      <td>2020.0</td>\n",
              "      <td>5.0</td>\n",
              "      <td>1.0</td>\n",
              "      <td>11.0</td>\n",
              "      <td>1.459978e-05</td>\n",
              "      <td>0.000018</td>\n",
              "      <td>0.000017</td>\n",
              "      <td>0.952377</td>\n",
              "      <td>1.804340</td>\n",
              "      <td>14.0</td>\n",
              "      <td>0.0074</td>\n",
              "      <td>2020-05-01</td>\n",
              "      <td>2020-05-01 11:00:00</td>\n",
              "      <td>6.2615</td>\n",
              "      <td>11.934496</td>\n",
              "    </tr>\n",
              "    <tr>\n",
              "      <th>1</th>\n",
              "      <td>52.192528</td>\n",
              "      <td>13.806399</td>\n",
              "      <td>2020.0</td>\n",
              "      <td>5.0</td>\n",
              "      <td>1.0</td>\n",
              "      <td>11.0</td>\n",
              "      <td>-6.227974e-06</td>\n",
              "      <td>0.000014</td>\n",
              "      <td>0.000014</td>\n",
              "      <td>0.951523</td>\n",
              "      <td>1.798625</td>\n",
              "      <td>14.0</td>\n",
              "      <td>0.0074</td>\n",
              "      <td>2020-05-01</td>\n",
              "      <td>2020-05-01 11:00:00</td>\n",
              "      <td>6.2615</td>\n",
              "      <td>11.934496</td>\n",
              "    </tr>\n",
              "    <tr>\n",
              "      <th>2</th>\n",
              "      <td>52.227226</td>\n",
              "      <td>13.895948</td>\n",
              "      <td>2020.0</td>\n",
              "      <td>5.0</td>\n",
              "      <td>1.0</td>\n",
              "      <td>11.0</td>\n",
              "      <td>5.757178e-07</td>\n",
              "      <td>0.000013</td>\n",
              "      <td>0.000013</td>\n",
              "      <td>0.918600</td>\n",
              "      <td>1.780306</td>\n",
              "      <td>14.0</td>\n",
              "      <td>0.0074</td>\n",
              "      <td>2020-05-01</td>\n",
              "      <td>2020-05-01 11:00:00</td>\n",
              "      <td>6.2615</td>\n",
              "      <td>11.934496</td>\n",
              "    </tr>\n",
              "    <tr>\n",
              "      <th>3</th>\n",
              "      <td>52.167213</td>\n",
              "      <td>13.589217</td>\n",
              "      <td>2020.0</td>\n",
              "      <td>5.0</td>\n",
              "      <td>1.0</td>\n",
              "      <td>11.0</td>\n",
              "      <td>1.580315e-05</td>\n",
              "      <td>0.000011</td>\n",
              "      <td>0.000011</td>\n",
              "      <td>1.077755</td>\n",
              "      <td>1.861350</td>\n",
              "      <td>14.0</td>\n",
              "      <td>0.0074</td>\n",
              "      <td>2020-05-01</td>\n",
              "      <td>2020-05-01 11:00:00</td>\n",
              "      <td>6.2615</td>\n",
              "      <td>11.934496</td>\n",
              "    </tr>\n",
              "    <tr>\n",
              "      <th>4</th>\n",
              "      <td>52.202910</td>\n",
              "      <td>13.680410</td>\n",
              "      <td>2020.0</td>\n",
              "      <td>5.0</td>\n",
              "      <td>1.0</td>\n",
              "      <td>11.0</td>\n",
              "      <td>1.687531e-05</td>\n",
              "      <td>0.000016</td>\n",
              "      <td>0.000015</td>\n",
              "      <td>1.005521</td>\n",
              "      <td>1.828623</td>\n",
              "      <td>14.0</td>\n",
              "      <td>0.0074</td>\n",
              "      <td>2020-05-01</td>\n",
              "      <td>2020-05-01 11:00:00</td>\n",
              "      <td>6.2615</td>\n",
              "      <td>11.934496</td>\n",
              "    </tr>\n",
              "  </tbody>\n",
              "</table>\n",
              "</div>\n",
              "      <button class=\"colab-df-convert\" onclick=\"convertToInteractive('df-bfaaf46c-88e4-4c70-9dc9-5363f3242a8c')\"\n",
              "              title=\"Convert this dataframe to an interactive table.\"\n",
              "              style=\"display:none;\">\n",
              "        \n",
              "  <svg xmlns=\"http://www.w3.org/2000/svg\" height=\"24px\"viewBox=\"0 0 24 24\"\n",
              "       width=\"24px\">\n",
              "    <path d=\"M0 0h24v24H0V0z\" fill=\"none\"/>\n",
              "    <path d=\"M18.56 5.44l.94 2.06.94-2.06 2.06-.94-2.06-.94-.94-2.06-.94 2.06-2.06.94zm-11 1L8.5 8.5l.94-2.06 2.06-.94-2.06-.94L8.5 2.5l-.94 2.06-2.06.94zm10 10l.94 2.06.94-2.06 2.06-.94-2.06-.94-.94-2.06-.94 2.06-2.06.94z\"/><path d=\"M17.41 7.96l-1.37-1.37c-.4-.4-.92-.59-1.43-.59-.52 0-1.04.2-1.43.59L10.3 9.45l-7.72 7.72c-.78.78-.78 2.05 0 2.83L4 21.41c.39.39.9.59 1.41.59.51 0 1.02-.2 1.41-.59l7.78-7.78 2.81-2.81c.8-.78.8-2.07 0-2.86zM5.41 20L4 18.59l7.72-7.72 1.47 1.35L5.41 20z\"/>\n",
              "  </svg>\n",
              "      </button>\n",
              "      \n",
              "  <style>\n",
              "    .colab-df-container {\n",
              "      display:flex;\n",
              "      flex-wrap:wrap;\n",
              "      gap: 12px;\n",
              "    }\n",
              "\n",
              "    .colab-df-convert {\n",
              "      background-color: #E8F0FE;\n",
              "      border: none;\n",
              "      border-radius: 50%;\n",
              "      cursor: pointer;\n",
              "      display: none;\n",
              "      fill: #1967D2;\n",
              "      height: 32px;\n",
              "      padding: 0 0 0 0;\n",
              "      width: 32px;\n",
              "    }\n",
              "\n",
              "    .colab-df-convert:hover {\n",
              "      background-color: #E2EBFA;\n",
              "      box-shadow: 0px 1px 2px rgba(60, 64, 67, 0.3), 0px 1px 3px 1px rgba(60, 64, 67, 0.15);\n",
              "      fill: #174EA6;\n",
              "    }\n",
              "\n",
              "    [theme=dark] .colab-df-convert {\n",
              "      background-color: #3B4455;\n",
              "      fill: #D2E3FC;\n",
              "    }\n",
              "\n",
              "    [theme=dark] .colab-df-convert:hover {\n",
              "      background-color: #434B5C;\n",
              "      box-shadow: 0px 1px 3px 1px rgba(0, 0, 0, 0.15);\n",
              "      filter: drop-shadow(0px 1px 2px rgba(0, 0, 0, 0.3));\n",
              "      fill: #FFFFFF;\n",
              "    }\n",
              "  </style>\n",
              "\n",
              "      <script>\n",
              "        const buttonEl =\n",
              "          document.querySelector('#df-bfaaf46c-88e4-4c70-9dc9-5363f3242a8c button.colab-df-convert');\n",
              "        buttonEl.style.display =\n",
              "          google.colab.kernel.accessAllowed ? 'block' : 'none';\n",
              "\n",
              "        async function convertToInteractive(key) {\n",
              "          const element = document.querySelector('#df-bfaaf46c-88e4-4c70-9dc9-5363f3242a8c');\n",
              "          const dataTable =\n",
              "            await google.colab.kernel.invokeFunction('convertToInteractive',\n",
              "                                                     [key], {});\n",
              "          if (!dataTable) return;\n",
              "\n",
              "          const docLinkHtml = 'Like what you see? Visit the ' +\n",
              "            '<a target=\"_blank\" href=https://colab.research.google.com/notebooks/data_table.ipynb>data table notebook</a>'\n",
              "            + ' to learn more about interactive tables.';\n",
              "          element.innerHTML = '';\n",
              "          dataTable['output_type'] = 'display_data';\n",
              "          await google.colab.output.renderOutput(dataTable, element);\n",
              "          const docLink = document.createElement('div');\n",
              "          docLink.innerHTML = docLinkHtml;\n",
              "          element.appendChild(docLink);\n",
              "        }\n",
              "      </script>\n",
              "    </div>\n",
              "  </div>\n",
              "  "
            ]
          },
          "metadata": {},
          "execution_count": 26
        }
      ]
    },
    {
      "cell_type": "code",
      "source": [
        "#print histograms of Pm10 and PM25\n",
        "print(final_data.shape)\n",
        "print(fin_data['pm25'].hist())\n",
        "print(fin_data['pm10'].hist())"
      ],
      "metadata": {
        "colab": {
          "base_uri": "https://localhost:8080/",
          "height": 332
        },
        "id": "I9gNyzSVD432",
        "outputId": "f5d43d6a-c149-4cbf-bbbd-dc277aaa3dcd"
      },
      "execution_count": null,
      "outputs": [
        {
          "output_type": "stream",
          "name": "stdout",
          "text": [
            "(220179, 15)\n",
            "AxesSubplot(0.125,0.125;0.775x0.755)\n",
            "AxesSubplot(0.125,0.125;0.775x0.755)\n"
          ]
        },
        {
          "output_type": "display_data",
          "data": {
            "text/plain": [
              "<Figure size 432x288 with 1 Axes>"
            ],
            "image/png": "[encoded data removed]"
          },
          "metadata": {
            "needs_background": "light"
          }
        }
      ]
    },
    {
      "cell_type": "code",
      "source": [
        "fin_data.shape"
      ],
      "metadata": {
        "colab": {
          "base_uri": "https://localhost:8080/"
        },
        "id": "bySgO26-zK7k",
        "outputId": "d1582cef-d7b2-4558-8926-ed3c4ca7ce23"
      },
      "execution_count": null,
      "outputs": [
        {
          "output_type": "execute_result",
          "data": {
            "text/plain": [
              "(166395, 17)"
            ]
          },
          "metadata": {},
          "execution_count": 19
        }
      ]
    },
    {
      "cell_type": "code",
      "source": [
        "fin_data['qa_value'].unique() #quality value "
      ],
      "metadata": {
        "colab": {
          "base_uri": "https://localhost:8080/"
        },
        "id": "H_eY8GSw5ts8",
        "outputId": "d61ff112-e7bd-4fc8-f7aa-d2fbecee82ec"
      },
      "execution_count": null,
      "outputs": [
        {
          "output_type": "execute_result",
          "data": {
            "text/plain": [
              "array([0.0074, 0.01  , 0.0011, 0.0067, 0.009 , 0.0033, 0.0015, 0.0045,\n",
              "       0.003 , 0.0014, 0.0005, 0.001 , 0.0073])"
            ]
          },
          "metadata": {},
          "execution_count": 29
        }
      ]
    },
    {
      "cell_type": "code",
      "source": [
        "fin_data['qa_value'].hist()"
      ],
      "metadata": {
        "colab": {
          "base_uri": "https://localhost:8080/",
          "height": 288
        },
        "id": "dMnLocvY55po",
        "outputId": "78cc4352-f7f0-4726-8865-b410d57db657"
      },
      "execution_count": null,
      "outputs": [
        {
          "output_type": "execute_result",
          "data": {
            "text/plain": [
              "<matplotlib.axes._subplots.AxesSubplot at 0x7f0742f034f0>"
            ]
          },
          "metadata": {},
          "execution_count": 28
        },
        {
          "output_type": "display_data",
          "data": {
            "text/plain": [
              "<Figure size 432x288 with 1 Axes>"
            ],
            "image/png": "[encoded data removed]"
          },
          "metadata": {
            "needs_background": "light"
          }
        }
      ]
    },
    {
      "cell_type": "code",
      "source": [
        "fin_data = fin_data.loc[(fin_data['qa_value'] > 0.004)]"
      ],
      "metadata": {
        "id": "olKQihC7Kv3l"
      },
      "execution_count": null,
      "outputs": []
    },
    {
      "cell_type": "code",
      "source": [
        "fin_data.shape"
      ],
      "metadata": {
        "colab": {
          "base_uri": "https://localhost:8080/"
        },
        "id": "VSZ758JXLRkO",
        "outputId": "b010079c-ca02-4650-d407-e44ae289e0a8"
      },
      "execution_count": null,
      "outputs": [
        {
          "output_type": "execute_result",
          "data": {
            "text/plain": [
              "(133820, 17)"
            ]
          },
          "metadata": {},
          "execution_count": 31
        }
      ]
    },
    {
      "cell_type": "code",
      "source": [
        "fin_data.sort_values(by='date', inplace=True)\n",
        "fin_data.head()"
      ],
      "metadata": {
        "colab": {
          "base_uri": "https://localhost:8080/",
          "height": 260
        },
        "id": "1OeUsK_Y5_-U",
        "outputId": "9f944117-fef2-4fd1-edbd-ee11569c83ed"
      },
      "execution_count": null,
      "outputs": [
        {
          "output_type": "execute_result",
          "data": {
            "text/plain": [
              "     latitude  longitute    Year  Month  Day  Hour  \\\n",
              "0   52.157350  13.716069  2020.0    5.0  1.0  11.0   \n",
              "95  52.548504  13.041852  2020.0    5.0  1.0  11.0   \n",
              "96  52.585503  13.135360  2020.0    5.0  1.0  11.0   \n",
              "97  52.621986  13.228033  2020.0    5.0  1.0  11.0   \n",
              "98  52.657963  13.319888  2020.0    5.0  1.0  11.0   \n",
              "\n",
              "    nitrogendioxide_tropospheric_column  \\\n",
              "0                          1.459978e-05   \n",
              "95                         1.250596e-05   \n",
              "96                        -4.180619e-07   \n",
              "97                         8.273078e-06   \n",
              "98                         1.682993e-05   \n",
              "\n",
              "    nitrogendioxide_tropospheric_column_precision  \\\n",
              "0                                        0.000018   \n",
              "95                                       0.000011   \n",
              "96                                       0.000011   \n",
              "97                                       0.000012   \n",
              "98                                       0.000014   \n",
              "\n",
              "    nitrogendioxide_tropospheric_column_precision_kernel  \\\n",
              "0                                            0.000017      \n",
              "95                                           0.000011      \n",
              "96                                           0.000011      \n",
              "97                                           0.000012      \n",
              "98                                           0.000013      \n",
              "\n",
              "    air_mass_factor_troposphere  air_mass_factor_total  \\\n",
              "0                      0.952377               1.804340   \n",
              "95                     1.022428               1.844749   \n",
              "96                     0.921338               1.783975   \n",
              "97                     0.999683               1.816041   \n",
              "98                     0.921474               1.775496   \n",
              "\n",
              "    tm5_tropopause_layer_index  qa_value         utc                 date  \\\n",
              "0                         14.0    0.0074  2020-05-01  2020-05-01 11:00:00   \n",
              "95                        14.0    0.0074  2020-05-01  2020-05-01 11:00:00   \n",
              "96                        14.0    0.0074  2020-05-01  2020-05-01 11:00:00   \n",
              "97                        14.0    0.0074  2020-05-01  2020-05-01 11:00:00   \n",
              "98                        14.0    0.0074  2020-05-01  2020-05-01 11:00:00   \n",
              "\n",
              "      pm10       pm25  \n",
              "0   6.2615  11.934496  \n",
              "95  6.2615  11.934496  \n",
              "96  6.2615  11.934496  \n",
              "97  6.2615  11.934496  \n",
              "98  6.2615  11.934496  "
            ],
            "text/html": [
              "\n",
              "  <div id=\"df-95a8aa28-bcbe-461c-b42e-0b22f3520963\">\n",
              "    <div class=\"colab-df-container\">\n",
              "      <div>\n",
              "<style scoped>\n",
              "    .dataframe tbody tr th:only-of-type {\n",
              "        vertical-align: middle;\n",
              "    }\n",
              "\n",
              "    .dataframe tbody tr th {\n",
              "        vertical-align: top;\n",
              "    }\n",
              "\n",
              "    .dataframe thead th {\n",
              "        text-align: right;\n",
              "    }\n",
              "</style>\n",
              "<table border=\"1\" class=\"dataframe\">\n",
              "  <thead>\n",
              "    <tr style=\"text-align: right;\">\n",
              "      <th></th>\n",
              "      <th>latitude</th>\n",
              "      <th>longitute</th>\n",
              "      <th>Year</th>\n",
              "      <th>Month</th>\n",
              "      <th>Day</th>\n",
              "      <th>Hour</th>\n",
              "      <th>nitrogendioxide_tropospheric_column</th>\n",
              "      <th>nitrogendioxide_tropospheric_column_precision</th>\n",
              "      <th>nitrogendioxide_tropospheric_column_precision_kernel</th>\n",
              "      <th>air_mass_factor_troposphere</th>\n",
              "      <th>air_mass_factor_total</th>\n",
              "      <th>tm5_tropopause_layer_index</th>\n",
              "      <th>qa_value</th>\n",
              "      <th>utc</th>\n",
              "      <th>date</th>\n",
              "      <th>pm10</th>\n",
              "      <th>pm25</th>\n",
              "    </tr>\n",
              "  </thead>\n",
              "  <tbody>\n",
              "    <tr>\n",
              "      <th>0</th>\n",
              "      <td>52.157350</td>\n",
              "      <td>13.716069</td>\n",
              "      <td>2020.0</td>\n",
              "      <td>5.0</td>\n",
              "      <td>1.0</td>\n",
              "      <td>11.0</td>\n",
              "      <td>1.459978e-05</td>\n",
              "      <td>0.000018</td>\n",
              "      <td>0.000017</td>\n",
              "      <td>0.952377</td>\n",
              "      <td>1.804340</td>\n",
              "      <td>14.0</td>\n",
              "      <td>0.0074</td>\n",
              "      <td>2020-05-01</td>\n",
              "      <td>2020-05-01 11:00:00</td>\n",
              "      <td>6.2615</td>\n",
              "      <td>11.934496</td>\n",
              "    </tr>\n",
              "    <tr>\n",
              "      <th>95</th>\n",
              "      <td>52.548504</td>\n",
              "      <td>13.041852</td>\n",
              "      <td>2020.0</td>\n",
              "      <td>5.0</td>\n",
              "      <td>1.0</td>\n",
              "      <td>11.0</td>\n",
              "      <td>1.250596e-05</td>\n",
              "      <td>0.000011</td>\n",
              "      <td>0.000011</td>\n",
              "      <td>1.022428</td>\n",
              "      <td>1.844749</td>\n",
              "      <td>14.0</td>\n",
              "      <td>0.0074</td>\n",
              "      <td>2020-05-01</td>\n",
              "      <td>2020-05-01 11:00:00</td>\n",
              "      <td>6.2615</td>\n",
              "      <td>11.934496</td>\n",
              "    </tr>\n",
              "    <tr>\n",
              "      <th>96</th>\n",
              "      <td>52.585503</td>\n",
              "      <td>13.135360</td>\n",
              "      <td>2020.0</td>\n",
              "      <td>5.0</td>\n",
              "      <td>1.0</td>\n",
              "      <td>11.0</td>\n",
              "      <td>-4.180619e-07</td>\n",
              "      <td>0.000011</td>\n",
              "      <td>0.000011</td>\n",
              "      <td>0.921338</td>\n",
              "      <td>1.783975</td>\n",
              "      <td>14.0</td>\n",
              "      <td>0.0074</td>\n",
              "      <td>2020-05-01</td>\n",
              "      <td>2020-05-01 11:00:00</td>\n",
              "      <td>6.2615</td>\n",
              "      <td>11.934496</td>\n",
              "    </tr>\n",
              "    <tr>\n",
              "      <th>97</th>\n",
              "      <td>52.621986</td>\n",
              "      <td>13.228033</td>\n",
              "      <td>2020.0</td>\n",
              "      <td>5.0</td>\n",
              "      <td>1.0</td>\n",
              "      <td>11.0</td>\n",
              "      <td>8.273078e-06</td>\n",
              "      <td>0.000012</td>\n",
              "      <td>0.000012</td>\n",
              "      <td>0.999683</td>\n",
              "      <td>1.816041</td>\n",
              "      <td>14.0</td>\n",
              "      <td>0.0074</td>\n",
              "      <td>2020-05-01</td>\n",
              "      <td>2020-05-01 11:00:00</td>\n",
              "      <td>6.2615</td>\n",
              "      <td>11.934496</td>\n",
              "    </tr>\n",
              "    <tr>\n",
              "      <th>98</th>\n",
              "      <td>52.657963</td>\n",
              "      <td>13.319888</td>\n",
              "      <td>2020.0</td>\n",
              "      <td>5.0</td>\n",
              "      <td>1.0</td>\n",
              "      <td>11.0</td>\n",
              "      <td>1.682993e-05</td>\n",
              "      <td>0.000014</td>\n",
              "      <td>0.000013</td>\n",
              "      <td>0.921474</td>\n",
              "      <td>1.775496</td>\n",
              "      <td>14.0</td>\n",
              "      <td>0.0074</td>\n",
              "      <td>2020-05-01</td>\n",
              "      <td>2020-05-01 11:00:00</td>\n",
              "      <td>6.2615</td>\n",
              "      <td>11.934496</td>\n",
              "    </tr>\n",
              "  </tbody>\n",
              "</table>\n",
              "</div>\n",
              "      <button class=\"colab-df-convert\" onclick=\"convertToInteractive('df-95a8aa28-bcbe-461c-b42e-0b22f3520963')\"\n",
              "              title=\"Convert this dataframe to an interactive table.\"\n",
              "              style=\"display:none;\">\n",
              "        \n",
              "  <svg xmlns=\"http://www.w3.org/2000/svg\" height=\"24px\"viewBox=\"0 0 24 24\"\n",
              "       width=\"24px\">\n",
              "    <path d=\"M0 0h24v24H0V0z\" fill=\"none\"/>\n",
              "    <path d=\"M18.56 5.44l.94 2.06.94-2.06 2.06-.94-2.06-.94-.94-2.06-.94 2.06-2.06.94zm-11 1L8.5 8.5l.94-2.06 2.06-.94-2.06-.94L8.5 2.5l-.94 2.06-2.06.94zm10 10l.94 2.06.94-2.06 2.06-.94-2.06-.94-.94-2.06-.94 2.06-2.06.94z\"/><path d=\"M17.41 7.96l-1.37-1.37c-.4-.4-.92-.59-1.43-.59-.52 0-1.04.2-1.43.59L10.3 9.45l-7.72 7.72c-.78.78-.78 2.05 0 2.83L4 21.41c.39.39.9.59 1.41.59.51 0 1.02-.2 1.41-.59l7.78-7.78 2.81-2.81c.8-.78.8-2.07 0-2.86zM5.41 20L4 18.59l7.72-7.72 1.47 1.35L5.41 20z\"/>\n",
              "  </svg>\n",
              "      </button>\n",
              "      \n",
              "  <style>\n",
              "    .colab-df-container {\n",
              "      display:flex;\n",
              "      flex-wrap:wrap;\n",
              "      gap: 12px;\n",
              "    }\n",
              "\n",
              "    .colab-df-convert {\n",
              "      background-color: #E8F0FE;\n",
              "      border: none;\n",
              "      border-radius: 50%;\n",
              "      cursor: pointer;\n",
              "      display: none;\n",
              "      fill: #1967D2;\n",
              "      height: 32px;\n",
              "      padding: 0 0 0 0;\n",
              "      width: 32px;\n",
              "    }\n",
              "\n",
              "    .colab-df-convert:hover {\n",
              "      background-color: #E2EBFA;\n",
              "      box-shadow: 0px 1px 2px rgba(60, 64, 67, 0.3), 0px 1px 3px 1px rgba(60, 64, 67, 0.15);\n",
              "      fill: #174EA6;\n",
              "    }\n",
              "\n",
              "    [theme=dark] .colab-df-convert {\n",
              "      background-color: #3B4455;\n",
              "      fill: #D2E3FC;\n",
              "    }\n",
              "\n",
              "    [theme=dark] .colab-df-convert:hover {\n",
              "      background-color: #434B5C;\n",
              "      box-shadow: 0px 1px 3px 1px rgba(0, 0, 0, 0.15);\n",
              "      filter: drop-shadow(0px 1px 2px rgba(0, 0, 0, 0.3));\n",
              "      fill: #FFFFFF;\n",
              "    }\n",
              "  </style>\n",
              "\n",
              "      <script>\n",
              "        const buttonEl =\n",
              "          document.querySelector('#df-95a8aa28-bcbe-461c-b42e-0b22f3520963 button.colab-df-convert');\n",
              "        buttonEl.style.display =\n",
              "          google.colab.kernel.accessAllowed ? 'block' : 'none';\n",
              "\n",
              "        async function convertToInteractive(key) {\n",
              "          const element = document.querySelector('#df-95a8aa28-bcbe-461c-b42e-0b22f3520963');\n",
              "          const dataTable =\n",
              "            await google.colab.kernel.invokeFunction('convertToInteractive',\n",
              "                                                     [key], {});\n",
              "          if (!dataTable) return;\n",
              "\n",
              "          const docLinkHtml = 'Like what you see? Visit the ' +\n",
              "            '<a target=\"_blank\" href=https://colab.research.google.com/notebooks/data_table.ipynb>data table notebook</a>'\n",
              "            + ' to learn more about interactive tables.';\n",
              "          element.innerHTML = '';\n",
              "          dataTable['output_type'] = 'display_data';\n",
              "          await google.colab.output.renderOutput(dataTable, element);\n",
              "          const docLink = document.createElement('div');\n",
              "          docLink.innerHTML = docLinkHtml;\n",
              "          element.appendChild(docLink);\n",
              "        }\n",
              "      </script>\n",
              "    </div>\n",
              "  </div>\n",
              "  "
            ]
          },
          "metadata": {},
          "execution_count": 32
        }
      ]
    },
    {
      "cell_type": "code",
      "source": [
        "data_LSTM_test1=fin_data.drop(columns=['date', 'utc', 'pm25','tm5_tropopause_layer_index', 'latitude', 'longitute', 'Year', 'Month', 'Day', 'Hour', 'qa_value']) #drop columns that are not used for LSTM"
      ],
      "metadata": {
        "id": "ulmikuDO8MKf"
      },
      "execution_count": null,
      "outputs": []
    },
    {
      "cell_type": "code",
      "source": [
        "data_LSTM_test1.head(5)"
      ],
      "metadata": {
        "colab": {
          "base_uri": "https://localhost:8080/",
          "height": 260
        },
        "id": "rWRtB1Jg9Aez",
        "outputId": "59a56aa9-d7e3-48dd-ae62-4235bfad1366"
      },
      "execution_count": null,
      "outputs": [
        {
          "output_type": "execute_result",
          "data": {
            "text/plain": [
              "    nitrogendioxide_tropospheric_column  \\\n",
              "0                          1.459978e-05   \n",
              "95                         1.250596e-05   \n",
              "96                        -4.180619e-07   \n",
              "97                         8.273078e-06   \n",
              "98                         1.682993e-05   \n",
              "\n",
              "    nitrogendioxide_tropospheric_column_precision  \\\n",
              "0                                        0.000018   \n",
              "95                                       0.000011   \n",
              "96                                       0.000011   \n",
              "97                                       0.000012   \n",
              "98                                       0.000014   \n",
              "\n",
              "    nitrogendioxide_tropospheric_column_precision_kernel  \\\n",
              "0                                            0.000017      \n",
              "95                                           0.000011      \n",
              "96                                           0.000011      \n",
              "97                                           0.000012      \n",
              "98                                           0.000013      \n",
              "\n",
              "    air_mass_factor_troposphere  air_mass_factor_total    pm10  \n",
              "0                      0.952377               1.804340  6.2615  \n",
              "95                     1.022428               1.844749  6.2615  \n",
              "96                     0.921338               1.783975  6.2615  \n",
              "97                     0.999683               1.816041  6.2615  \n",
              "98                     0.921474               1.775496  6.2615  "
            ],
            "text/html": [
              "\n",
              "  <div id=\"df-96e84cce-ed59-4aa9-bc0f-5ee055049105\">\n",
              "    <div class=\"colab-df-container\">\n",
              "      <div>\n",
              "<style scoped>\n",
              "    .dataframe tbody tr th:only-of-type {\n",
              "        vertical-align: middle;\n",
              "    }\n",
              "\n",
              "    .dataframe tbody tr th {\n",
              "        vertical-align: top;\n",
              "    }\n",
              "\n",
              "    .dataframe thead th {\n",
              "        text-align: right;\n",
              "    }\n",
              "</style>\n",
              "<table border=\"1\" class=\"dataframe\">\n",
              "  <thead>\n",
              "    <tr style=\"text-align: right;\">\n",
              "      <th></th>\n",
              "      <th>nitrogendioxide_tropospheric_column</th>\n",
              "      <th>nitrogendioxide_tropospheric_column_precision</th>\n",
              "      <th>nitrogendioxide_tropospheric_column_precision_kernel</th>\n",
              "      <th>air_mass_factor_troposphere</th>\n",
              "      <th>air_mass_factor_total</th>\n",
              "      <th>pm10</th>\n",
              "    </tr>\n",
              "  </thead>\n",
              "  <tbody>\n",
              "    <tr>\n",
              "      <th>0</th>\n",
              "      <td>1.459978e-05</td>\n",
              "      <td>0.000018</td>\n",
              "      <td>0.000017</td>\n",
              "      <td>0.952377</td>\n",
              "      <td>1.804340</td>\n",
              "      <td>6.2615</td>\n",
              "    </tr>\n",
              "    <tr>\n",
              "      <th>95</th>\n",
              "      <td>1.250596e-05</td>\n",
              "      <td>0.000011</td>\n",
              "      <td>0.000011</td>\n",
              "      <td>1.022428</td>\n",
              "      <td>1.844749</td>\n",
              "      <td>6.2615</td>\n",
              "    </tr>\n",
              "    <tr>\n",
              "      <th>96</th>\n",
              "      <td>-4.180619e-07</td>\n",
              "      <td>0.000011</td>\n",
              "      <td>0.000011</td>\n",
              "      <td>0.921338</td>\n",
              "      <td>1.783975</td>\n",
              "      <td>6.2615</td>\n",
              "    </tr>\n",
              "    <tr>\n",
              "      <th>97</th>\n",
              "      <td>8.273078e-06</td>\n",
              "      <td>0.000012</td>\n",
              "      <td>0.000012</td>\n",
              "      <td>0.999683</td>\n",
              "      <td>1.816041</td>\n",
              "      <td>6.2615</td>\n",
              "    </tr>\n",
              "    <tr>\n",
              "      <th>98</th>\n",
              "      <td>1.682993e-05</td>\n",
              "      <td>0.000014</td>\n",
              "      <td>0.000013</td>\n",
              "      <td>0.921474</td>\n",
              "      <td>1.775496</td>\n",
              "      <td>6.2615</td>\n",
              "    </tr>\n",
              "  </tbody>\n",
              "</table>\n",
              "</div>\n",
              "      <button class=\"colab-df-convert\" onclick=\"convertToInteractive('df-96e84cce-ed59-4aa9-bc0f-5ee055049105')\"\n",
              "              title=\"Convert this dataframe to an interactive table.\"\n",
              "              style=\"display:none;\">\n",
              "        \n",
              "  <svg xmlns=\"http://www.w3.org/2000/svg\" height=\"24px\"viewBox=\"0 0 24 24\"\n",
              "       width=\"24px\">\n",
              "    <path d=\"M0 0h24v24H0V0z\" fill=\"none\"/>\n",
              "    <path d=\"M18.56 5.44l.94 2.06.94-2.06 2.06-.94-2.06-.94-.94-2.06-.94 2.06-2.06.94zm-11 1L8.5 8.5l.94-2.06 2.06-.94-2.06-.94L8.5 2.5l-.94 2.06-2.06.94zm10 10l.94 2.06.94-2.06 2.06-.94-2.06-.94-.94-2.06-.94 2.06-2.06.94z\"/><path d=\"M17.41 7.96l-1.37-1.37c-.4-.4-.92-.59-1.43-.59-.52 0-1.04.2-1.43.59L10.3 9.45l-7.72 7.72c-.78.78-.78 2.05 0 2.83L4 21.41c.39.39.9.59 1.41.59.51 0 1.02-.2 1.41-.59l7.78-7.78 2.81-2.81c.8-.78.8-2.07 0-2.86zM5.41 20L4 18.59l7.72-7.72 1.47 1.35L5.41 20z\"/>\n",
              "  </svg>\n",
              "      </button>\n",
              "      \n",
              "  <style>\n",
              "    .colab-df-container {\n",
              "      display:flex;\n",
              "      flex-wrap:wrap;\n",
              "      gap: 12px;\n",
              "    }\n",
              "\n",
              "    .colab-df-convert {\n",
              "      background-color: #E8F0FE;\n",
              "      border: none;\n",
              "      border-radius: 50%;\n",
              "      cursor: pointer;\n",
              "      display: none;\n",
              "      fill: #1967D2;\n",
              "      height: 32px;\n",
              "      padding: 0 0 0 0;\n",
              "      width: 32px;\n",
              "    }\n",
              "\n",
              "    .colab-df-convert:hover {\n",
              "      background-color: #E2EBFA;\n",
              "      box-shadow: 0px 1px 2px rgba(60, 64, 67, 0.3), 0px 1px 3px 1px rgba(60, 64, 67, 0.15);\n",
              "      fill: #174EA6;\n",
              "    }\n",
              "\n",
              "    [theme=dark] .colab-df-convert {\n",
              "      background-color: #3B4455;\n",
              "      fill: #D2E3FC;\n",
              "    }\n",
              "\n",
              "    [theme=dark] .colab-df-convert:hover {\n",
              "      background-color: #434B5C;\n",
              "      box-shadow: 0px 1px 3px 1px rgba(0, 0, 0, 0.15);\n",
              "      filter: drop-shadow(0px 1px 2px rgba(0, 0, 0, 0.3));\n",
              "      fill: #FFFFFF;\n",
              "    }\n",
              "  </style>\n",
              "\n",
              "      <script>\n",
              "        const buttonEl =\n",
              "          document.querySelector('#df-96e84cce-ed59-4aa9-bc0f-5ee055049105 button.colab-df-convert');\n",
              "        buttonEl.style.display =\n",
              "          google.colab.kernel.accessAllowed ? 'block' : 'none';\n",
              "\n",
              "        async function convertToInteractive(key) {\n",
              "          const element = document.querySelector('#df-96e84cce-ed59-4aa9-bc0f-5ee055049105');\n",
              "          const dataTable =\n",
              "            await google.colab.kernel.invokeFunction('convertToInteractive',\n",
              "                                                     [key], {});\n",
              "          if (!dataTable) return;\n",
              "\n",
              "          const docLinkHtml = 'Like what you see? Visit the ' +\n",
              "            '<a target=\"_blank\" href=https://colab.research.google.com/notebooks/data_table.ipynb>data table notebook</a>'\n",
              "            + ' to learn more about interactive tables.';\n",
              "          element.innerHTML = '';\n",
              "          dataTable['output_type'] = 'display_data';\n",
              "          await google.colab.output.renderOutput(dataTable, element);\n",
              "          const docLink = document.createElement('div');\n",
              "          docLink.innerHTML = docLinkHtml;\n",
              "          element.appendChild(docLink);\n",
              "        }\n",
              "      </script>\n",
              "    </div>\n",
              "  </div>\n",
              "  "
            ]
          },
          "metadata": {},
          "execution_count": 35
        }
      ]
    },
    {
      "cell_type": "markdown",
      "source": [
        "##**Feature Engineering for LSTM**"
      ],
      "metadata": {
        "id": "9aPCxAG_9M9a"
      }
    },
    {
      "cell_type": "markdown",
      "source": [
        "**Reference**\n",
        "\n",
        "The model scrip was adopted from the following webpage: \n",
        "\n",
        "https://machinelearningmastery.com/multivariate-time-series-forecasting-lstms-keras/\n",
        "\n",
        "https://machinelearningmastery.com/time-series-prediction-lstm-recurrent-neural-networks-python-keras/\n",
        "\n"
      ],
      "metadata": {
        "id": "wzArHSrTPrZZ"
      }
    },
    {
      "cell_type": "code",
      "source": [
        "\n",
        "# convert series to supervised learning\n",
        "\n",
        "#https://machinelearningmastery.com/time-series-prediction-lstm-recurrent-neural-networks-python-keras/\n",
        "\n",
        "def series_to_supervised(data, n_in=1, n_out=1, dropnan=True):\n",
        "\tn_vars = 1 if type(data) is list else data.shape[1]\n",
        "\tdf = DataFrame(data)\n",
        "\tcols, names = list(), list()\n",
        "\t# input sequence (t-n, ... t-1)\n",
        "\tfor i in range(n_in, 0, -1):\n",
        "\t\tcols.append(df.shift(i))\n",
        "\t\tnames += [('var%d(t-%d)' % (j+1, i)) for j in range(n_vars)]\n",
        "\t# forecast sequence (t, t+1, ... t+n)\n",
        "\tfor i in range(0, n_out):\n",
        "\t\tcols.append(df.shift(-i))\n",
        "\t\tif i == 0:\n",
        "\t\t\tnames += [('var%d(t)' % (j+1)) for j in range(n_vars)]\n",
        "\t\telse:\n",
        "\t\t\tnames += [('var%d(t+%d)' % (j+1, i)) for j in range(n_vars)]\n",
        "\t# put it all together\n",
        "\tagg = concat(cols, axis=1)\n",
        "\tagg.columns = names\n",
        "\t# drop rows with NaN values\n",
        "\tif dropnan:\n",
        "\t\tagg.dropna(inplace=True)\n",
        "\t\t\n",
        "\treturn agg\n",
        "#https://machinelearningmastery.com/time-series-prediction-lstm-recurrent-neural-networks-python-keras/\n",
        "\n",
        "# load dataset\n",
        "values = data_LSTM_test1.values\n",
        "# integer encode direction\n",
        "encoder = LabelEncoder()\n",
        "#values[:,8] = encoder.fit_transform(values[:,8])\n",
        "values\n",
        "# ensure all data is float\n",
        "values = values.astype('float32')\n",
        "# normalize features\n",
        "scaler = MinMaxScaler(feature_range=(0, 1))\n",
        "scaled = scaler.fit_transform(values)\n",
        "# frame as supervised learning\n",
        "reframed = series_to_supervised(scaled, 1, 1)\n",
        "reframed.drop(reframed.columns[[0,6, 8,9,10,11]], axis=1, inplace=True)\n",
        "print(reframed.head())"
      ],
      "metadata": {
        "colab": {
          "base_uri": "https://localhost:8080/"
        },
        "id": "TtmhVChy9FQ1",
        "outputId": "c2460abe-a1ca-4f6d-c285-b0e9aca54f0f"
      },
      "execution_count": null,
      "outputs": [
        {
          "output_type": "stream",
          "name": "stdout",
          "text": [
            "   var2(t-1)  var3(t-1)  var4(t-1)  var5(t-1)  var6(t-1)   var2(t)\n",
            "1   0.018191   0.018763   0.243149   0.357339   0.129479  0.008212\n",
            "2   0.008212   0.008622   0.266456   0.371345   0.129479  0.008405\n",
            "3   0.008405   0.009252   0.232822   0.350280   0.129479  0.009880\n",
            "4   0.009880   0.010570   0.258888   0.361394   0.129479  0.012215\n",
            "5   0.012215   0.012459   0.232868   0.347342   0.129479  0.009161\n"
          ]
        }
      ]
    },
    {
      "cell_type": "code",
      "source": [
        "#Train/Val/Test\n",
        "values = reframed.values\n",
        "x, x_test, y, y_test = train_test_split(values[:, :-1],values[:,-1],test_size=0.1,train_size=0.9, random_state=None, shuffle=False)\n",
        "x_train, x_val, train_y, val_y = train_test_split(x,y,test_size = 0.2,train_size =0.8, random_state=None, shuffle=False)"
      ],
      "metadata": {
        "id": "RuF_0ejhNBCJ"
      },
      "execution_count": null,
      "outputs": []
    },
    {
      "cell_type": "code",
      "source": [
        "# reshape input to be 3D [samples, timesteps, features]\n",
        "train_X = x_train.reshape((x_train.shape[0], 1, x_train.shape[1])) \n",
        "val_X = x_val.reshape((x_val.shape[0], 1, x_val.shape[1]))\n",
        "test_X = x_test.reshape((x_test.shape[0], 1, x_test.shape[1]))"
      ],
      "metadata": {
        "id": "HJ_q1TZ_NmTZ"
      },
      "execution_count": null,
      "outputs": []
    },
    {
      "cell_type": "code",
      "source": [
        "print(train_X.shape, train_y.shape, val_X.shape, val_y.shape, test_X.shape, y_test.shape)"
      ],
      "metadata": {
        "colab": {
          "base_uri": "https://localhost:8080/"
        },
        "id": "bPd_KEWB_lU6",
        "outputId": "330217a0-917f-4b39-939b-4aea7da5e51d"
      },
      "execution_count": null,
      "outputs": [
        {
          "output_type": "stream",
          "name": "stdout",
          "text": [
            "(96349, 1, 5) (96349,) (24088, 1, 5) (24088,) (13382, 1, 5) (13382,)\n"
          ]
        }
      ]
    },
    {
      "cell_type": "markdown",
      "source": [
        "##**LSTM Baseline**"
      ],
      "metadata": {
        "id": "NB_m8GTL9gvv"
      }
    },
    {
      "cell_type": "code",
      "source": [
        "#https://machinelearningmastery.com/multivariate-time-series-forecasting-lstms-keras/\n",
        "\n",
        "%%time\n",
        "model = Sequential()\n",
        "model.add(LSTM(500, input_shape=(train_X.shape[1], train_X.shape[2])))\n",
        "model.add(Dropout(0.2))\n",
        "model.add(Dense(1))\n",
        "model.compile(loss='mae', optimizer='adam') #mean absolute error  \n",
        "history = model.fit(train_X, train_y, epochs=15, batch_size=64, validation_data=(val_X, val_y), verbose=2, shuffle=False)\n",
        "\n",
        "#plot history\n",
        "plt.figure(figsize=(15, 10))\n",
        "\n",
        "pyplot.plot(history.history['loss'], label='train')\n",
        "pyplot.plot(history.history['val_loss'], label='val')\n",
        "pyplot.legend()\n",
        "pyplot.show() "
      ],
      "metadata": {
        "colab": {
          "base_uri": "https://localhost:8080/",
          "height": 1000
        },
        "id": "xyl_NumdAVWu",
        "outputId": "11b6be79-5e83-4791-fbe1-300cfdafb003"
      },
      "execution_count": null,
      "outputs": [
        {
          "output_type": "stream",
          "name": "stdout",
          "text": [
            "Epoch 1/15\n",
            "1506/1506 - 39s - loss: 0.0102 - val_loss: 0.0103 - 39s/epoch - 26ms/step\n",
            "Epoch 2/15\n",
            "1506/1506 - 29s - loss: 0.0092 - val_loss: 0.0106 - 29s/epoch - 19ms/step\n",
            "Epoch 3/15\n",
            "1506/1506 - 29s - loss: 0.0090 - val_loss: 0.0110 - 29s/epoch - 19ms/step\n",
            "Epoch 4/15\n",
            "1506/1506 - 29s - loss: 0.0089 - val_loss: 0.0110 - 29s/epoch - 19ms/step\n",
            "Epoch 5/15\n",
            "1506/1506 - 29s - loss: 0.0088 - val_loss: 0.0109 - 29s/epoch - 19ms/step\n",
            "Epoch 6/15\n",
            "1506/1506 - 28s - loss: 0.0087 - val_loss: 0.0110 - 28s/epoch - 18ms/step\n",
            "Epoch 7/15\n",
            "1506/1506 - 28s - loss: 0.0087 - val_loss: 0.0108 - 28s/epoch - 18ms/step\n",
            "Epoch 8/15\n",
            "1506/1506 - 28s - loss: 0.0087 - val_loss: 0.0111 - 28s/epoch - 19ms/step\n",
            "Epoch 9/15\n",
            "1506/1506 - 28s - loss: 0.0087 - val_loss: 0.0108 - 28s/epoch - 18ms/step\n",
            "Epoch 10/15\n",
            "1506/1506 - 28s - loss: 0.0086 - val_loss: 0.0109 - 28s/epoch - 18ms/step\n",
            "Epoch 11/15\n",
            "1506/1506 - 31s - loss: 0.0086 - val_loss: 0.0110 - 31s/epoch - 21ms/step\n",
            "Epoch 12/15\n",
            "1506/1506 - 28s - loss: 0.0086 - val_loss: 0.0108 - 28s/epoch - 19ms/step\n",
            "Epoch 13/15\n",
            "1506/1506 - 28s - loss: 0.0086 - val_loss: 0.0107 - 28s/epoch - 19ms/step\n",
            "Epoch 14/15\n",
            "1506/1506 - 28s - loss: 0.0085 - val_loss: 0.0109 - 28s/epoch - 19ms/step\n",
            "Epoch 15/15\n",
            "1506/1506 - 29s - loss: 0.0085 - val_loss: 0.0109 - 29s/epoch - 19ms/step\n"
          ]
        },
        {
          "output_type": "display_data",
          "data": {
            "text/plain": [
              "<Figure size 1080x720 with 1 Axes>"
            ],
            "image/png": "[encoded data removed]"
          },
          "metadata": {
            "needs_background": "light"
          }
        },
        {
          "output_type": "stream",
          "name": "stdout",
          "text": [
            "CPU times: user 11min 55s, sys: 27.3 s, total: 12min 22s\n",
            "Wall time: 7min 18s\n"
          ]
        }
      ]
    },
    {
      "cell_type": "markdown",
      "source": [
        "##**Result Visualisation**"
      ],
      "metadata": {
        "id": "T9XmQ1iBi8MI"
      }
    },
    {
      "cell_type": "code",
      "source": [
        "#Validation set (8 days forecast)\n",
        "\n",
        "yhat = model.predict(val_X)\n",
        "plt.figure(figsize=(40, 10))\n",
        "pyplot.plot(yhat[-10:], label='predict', color = 'pink')\n",
        "pyplot.plot(val_y[-10:], label='true', color = 'blue')\n",
        "pyplot.legend()\n",
        "\n",
        "pyplot.show()"
      ],
      "metadata": {
        "colab": {
          "base_uri": "https://localhost:8080/",
          "height": 616
        },
        "id": "m3G4YLuzdW0i",
        "outputId": "7c70c302-c641-4a3f-f09a-82cd6f1e529d"
      },
      "execution_count": null,
      "outputs": [
        {
          "output_type": "stream",
          "name": "stdout",
          "text": [
            "753/753 [==============================] - 4s 5ms/step\n"
          ]
        },
        {
          "output_type": "display_data",
          "data": {
            "text/plain": [
              "<Figure size 2880x720 with 1 Axes>"
            ],
            "image/png": "[encoded data removed]"
          },
          "metadata": {
            "needs_background": "light"
          }
        }
      ]
    },
    {
      "cell_type": "code",
      "source": [
        "#Train set (8 days forecast)\n",
        "\n",
        "yhat = model.predict(train_X)\n",
        "plt.figure(figsize=(40, 10))\n",
        "pyplot.plot(yhat[-10:], label='predict', color = 'pink')\n",
        "pyplot.plot(train_y[-10:], label='true', color = 'blue')\n",
        "pyplot.legend()\n",
        "\n",
        "pyplot.show()"
      ],
      "metadata": {
        "colab": {
          "base_uri": "https://localhost:8080/",
          "height": 616
        },
        "id": "yfVEYCO6fTHt",
        "outputId": "0debdd53-be12-49fd-84c4-a12ef4f92f91"
      },
      "execution_count": null,
      "outputs": [
        {
          "output_type": "stream",
          "name": "stdout",
          "text": [
            "3011/3011 [==============================] - 15s 5ms/step\n"
          ]
        },
        {
          "output_type": "display_data",
          "data": {
            "text/plain": [
              "<Figure size 2880x720 with 1 Axes>"
            ],
            "image/png": "[encoded data removed]"
          },
          "metadata": {
            "needs_background": "light"
          }
        }
      ]
    },
    {
      "cell_type": "code",
      "source": [
        "#Test set (8 days forecast)\n",
        "\n",
        "yhat = model.predict(test_X)\n",
        "plt.figure(figsize=(40, 10))\n",
        "pyplot.plot(yhat[-10:], label='predict', color = 'pink')\n",
        "pyplot.plot(y_test[-10:], label='true', color = 'blue')\n",
        "pyplot.legend()\n",
        "\n",
        "pyplot.show()"
      ],
      "metadata": {
        "colab": {
          "base_uri": "https://localhost:8080/",
          "height": 616
        },
        "id": "gJivN457fvdi",
        "outputId": "d851ad40-b035-488f-a374-0060a7b03ee4"
      },
      "execution_count": null,
      "outputs": [
        {
          "output_type": "stream",
          "name": "stdout",
          "text": [
            "419/419 [==============================] - 2s 6ms/step\n"
          ]
        },
        {
          "output_type": "display_data",
          "data": {
            "text/plain": [
              "<Figure size 2880x720 with 1 Axes>"
            ],
            "image/png": "[encoded data removed]"
          },
          "metadata": {
            "needs_background": "light"
          }
        }
      ]
    }
  ]
}